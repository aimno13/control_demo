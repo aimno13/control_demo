{
 "cells": [
  {
   "cell_type": "markdown",
   "metadata": {},
   "source": [
    "# Control Tutorial_9\n",
    "_Reference : The Control Handbook, Control System Fundamentals, Edited by William S.Levine from p5-83 to p5-85_, https://www.youtube.com/watch?v=E45v2dD3IQU"
   ]
  },
  {
   "cell_type": "markdown",
   "metadata": {},
   "source": [
    "# Finite State Machines\n",
    "---\n",
    "Finite State Machine (FSM) is strictly logical model where the system remains in each state for an unspecified amount of time and the transitions between states are triggered by events that occur instantaneously. It is often used to for artificial intelligences."
   ]
  },
  {
   "cell_type": "markdown",
   "metadata": {},
   "source": [
    "# Simulation\n",
    "## Example (RobotMaid)\n",
    "<img src=\"figures/FSM_robotmaid.png\" hight=\"150\">\n",
    "\n",
    "We consider the robot maid which can work on three kind of action.  \n",
    "The system has three States, \"CleanDishes\", \"Vacuum\", and \"Sleep\", and three transitions, \"toSleep\", and \"toCleanDishes\", \"toVacuum\".  \n",
    "In this notebook, we don't use any specific libraries for FSM. Here is the code for this system. \n",
    "The `the random.randint` method is used for making timer for the trigger of the Transitions."
   ]
  },
  {
   "cell_type": "code",
   "execution_count": 1,
   "metadata": {},
   "outputs": [],
   "source": [
    "from random import randint\n",
    "from time import clock"
   ]
  },
  {
   "cell_type": "markdown",
   "metadata": {},
   "source": [
    "Declare the super classes for Transition and State class."
   ]
  },
  {
   "cell_type": "code",
   "execution_count": 2,
   "metadata": {},
   "outputs": [],
   "source": [
    "class Transition(object):\n",
    "    def __init__(self,toState):\n",
    "        self.toState = toState\n",
    "        \n",
    "    def Execute(self):\n",
    "        print(\"=======Transitioning=======\")"
   ]
  },
  {
   "cell_type": "code",
   "execution_count": 3,
   "metadata": {},
   "outputs": [],
   "source": [
    "class State(object):\n",
    "    def __init__(self,FSM):\n",
    "        self.FSM = FSM\n",
    "        self.timer = 0\n",
    "        self.startTime = 0\n",
    "        \n",
    "    def Enter(self):\n",
    "        # Set the timer for the trigger\n",
    "        self.timer = randint(0,5)\n",
    "        self.startTime = int(clock())\n",
    "        \n",
    "    def Execute(self):\n",
    "        pass\n",
    "    def Exit(self):\n",
    "        pass"
   ]
  },
  {
   "cell_type": "markdown",
   "metadata": {},
   "source": [
    "Declare the State that the system has. Each State has three functions, `Enter`, `Execute`, and `Exit`."
   ]
  },
  {
   "cell_type": "code",
   "execution_count": 4,
   "metadata": {},
   "outputs": [],
   "source": [
    "class CleanDishes(State):\n",
    "    def __init__(self,FSM):\n",
    "        super().__init__(FSM)\n",
    "    \n",
    "    def Enter(self):\n",
    "        print(\"Preparing to clean dishes.\")\n",
    "        super().Enter()\n",
    "        \n",
    "    def Execute(self):\n",
    "        print(\"Cleaning dishes\")\n",
    "        if self.startTime+self.timer<=clock(): #Trigger\n",
    "            if randint(1,3)%2:\n",
    "                self.FSM.ToTransition(\"toVacuum\")\n",
    "            else:\n",
    "                self.FSM.ToTransition(\"toSleep\")\n",
    "    \n",
    "    def Exit(self):\n",
    "        print(\"Finished cleaning dishes.\")"
   ]
  },
  {
   "cell_type": "code",
   "execution_count": 5,
   "metadata": {},
   "outputs": [],
   "source": [
    "class Vacuum(State):\n",
    "    def __init__(self,FSM):\n",
    "        super().__init__(FSM)\n",
    "    \n",
    "    def Enter(self):\n",
    "        print(\"Preparing to Vacuum.\")\n",
    "        super().Enter()\n",
    "        \n",
    "    def Execute(self):\n",
    "        print(\"Vacuuming\")\n",
    "        if self.startTime+self.timer<=clock(): #Trigger\n",
    "            if randint(1,3)%2:\n",
    "                self.FSM.ToTransition(\"toSleep\")\n",
    "            else:\n",
    "                self.FSM.ToTransition(\"toCleanDishes\")\n",
    "    \n",
    "    def Exit(self):\n",
    "        print(\"Finished Vacuuming.\")"
   ]
  },
  {
   "cell_type": "code",
   "execution_count": 6,
   "metadata": {},
   "outputs": [],
   "source": [
    "class Sleep(State):\n",
    "    def __init__(self,FSM):\n",
    "        super().__init__(FSM)\n",
    "        self.sleepAmount = 0\n",
    "        self.startTime = 0\n",
    "    \n",
    "    def Enter(self):\n",
    "        print(\"Starting to sleep.\")\n",
    "        super().Enter()\n",
    "        \n",
    "    def Execute(self):\n",
    "        print(\"Sleeping\")\n",
    "        if self.startTime+self.timer<=clock(): #Trigger\n",
    "            if randint(1,3)%2:\n",
    "                self.FSM.ToTransition(\"toVacuum\")\n",
    "            else:\n",
    "                self.FSM.ToTransition(\"toCleanDishes\")\n",
    "    \n",
    "    def Exit(self):\n",
    "        print(\"Waking up from Sleep.\")"
   ]
  },
  {
   "cell_type": "code",
   "execution_count": 7,
   "metadata": {},
   "outputs": [],
   "source": [
    "class FSM(object):\n",
    "    def __init__(self,charactor):\n",
    "        self.char = charactor\n",
    "        self.states = {}\n",
    "        self.transitions = {}\n",
    "        self.curState = None\n",
    "        self.prevState = None\n",
    "        self.trans = None\n",
    "    \n",
    "    def AddTransition(self,transName,transition):\n",
    "        self.transitions[transName] = transition\n",
    "    \n",
    "    def AddState(self,stateName,state):\n",
    "        self.states[stateName] = state\n",
    "        \n",
    "    def SetState(self,stateName):\n",
    "        self.prevState = self.curState\n",
    "        self.curState = self.states[stateName]\n",
    "    \n",
    "    def ToTransition(self,toTrans):\n",
    "        self.trans = self.transitions[toTrans]\n",
    "        \n",
    "    def Execute(self):\n",
    "        if self.trans:\n",
    "            self.curState.Exit()\n",
    "            self.trans.Execute()\n",
    "            self.SetState(self.trans.toState)\n",
    "            self.curState.Enter()\n",
    "            self.trans = None\n",
    "        self.curState.Execute()"
   ]
  },
  {
   "cell_type": "code",
   "execution_count": 8,
   "metadata": {},
   "outputs": [],
   "source": [
    "# Implementation\n",
    "Char = type(\"Char\",(object,),{})\n",
    "\n",
    "class RobotMaid(Char):\n",
    "    def __init__(self):\n",
    "        self.FSM = FSM(self)\n",
    "        \n",
    "        # States\n",
    "        self.FSM.AddState(\"Sleep\",Sleep(self.FSM))\n",
    "        self.FSM.AddState(\"CleanDishes\",CleanDishes(self.FSM))\n",
    "        self.FSM.AddState(\"Vacuum\",Vacuum(self.FSM))\n",
    "        \n",
    "        # Transitions\n",
    "        self.FSM.AddTransition(\"toSleep\",Transition(\"Sleep\"))\n",
    "        self.FSM.AddTransition(\"toVacuum\",Transition(\"Vacuum\"))\n",
    "        self.FSM.AddTransition(\"toCleanDishes\",Transition(\"CleanDishes\"))\n",
    "        \n",
    "        # Initial State\n",
    "        self.FSM.SetState(\"Sleep\")\n",
    "        \n",
    "    def Execute(self):\n",
    "        self.FSM.Execute()"
   ]
  },
  {
   "cell_type": "markdown",
   "metadata": {},
   "source": [
    "We simulate the 20 iteration for every second."
   ]
  },
  {
   "cell_type": "code",
   "execution_count": 9,
   "metadata": {},
   "outputs": [
    {
     "name": "stdout",
     "output_type": "stream",
     "text": [
      "Sleeping\n",
      "Waking up from Sleep.\n",
      "=======Transitioning=======\n",
      "Preparing to Vacuum.\n",
      "Vacuuming\n",
      "Vacuuming\n",
      "Vacuuming\n",
      "Finished Vacuuming.\n",
      "=======Transitioning=======\n",
      "Preparing to clean dishes.\n",
      "Cleaning dishes\n",
      "Cleaning dishes\n",
      "Cleaning dishes\n",
      "Cleaning dishes\n",
      "Finished cleaning dishes.\n",
      "=======Transitioning=======\n",
      "Preparing to Vacuum.\n",
      "Vacuuming\n",
      "Vacuuming\n",
      "Vacuuming\n",
      "Vacuuming\n",
      "Finished Vacuuming.\n",
      "=======Transitioning=======\n",
      "Starting to sleep.\n",
      "Sleeping\n",
      "Sleeping\n",
      "Waking up from Sleep.\n",
      "=======Transitioning=======\n",
      "Preparing to Vacuum.\n",
      "Vacuuming\n",
      "Vacuuming\n",
      "Finished Vacuuming.\n",
      "=======Transitioning=======\n",
      "Preparing to clean dishes.\n",
      "Cleaning dishes\n",
      "Cleaning dishes\n",
      "Cleaning dishes\n",
      "Cleaning dishes\n"
     ]
    }
   ],
   "source": [
    "r = RobotMaid()\n",
    "for i in range(20):\n",
    "    startTime = clock()\n",
    "    timeInterval = 1\n",
    "    while (startTime+timeInterval) > clock():\n",
    "        pass\n",
    "    r.Execute()"
   ]
  }
 ],
 "metadata": {
  "kernelspec": {
   "display_name": "Python 3",
   "language": "python",
   "name": "python3"
  },
  "language_info": {
   "codemirror_mode": {
    "name": "ipython",
    "version": 3
   },
   "file_extension": ".py",
   "mimetype": "text/x-python",
   "name": "python",
   "nbconvert_exporter": "python",
   "pygments_lexer": "ipython3",
   "version": "3.5.2"
  }
 },
 "nbformat": 4,
 "nbformat_minor": 2
}
