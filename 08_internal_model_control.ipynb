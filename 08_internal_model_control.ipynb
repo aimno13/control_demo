{
 "cells": [
  {
   "cell_type": "markdown",
   "metadata": {},
   "source": [
    "# Control Tutorial_8\n",
    "_Reference : The Control Handbook, Control System Fundamentals, Edited by William S.Levine from p9-100 to p9-123_,  "
   ]
  },
  {
   "cell_type": "markdown",
   "metadata": {},
   "source": [
    "# Internal Model Control (IMC)\n",
    "---\n",
    "The IMC structure is shown like the figure.\n",
    "\n",
    "<img src=\"figures/IMC.png\" hight=\"150\">\n",
    "\n",
    "Where $d$ is an unknown disturbance affecting the system. The manipulated input $u$ is introdused to both the plant and its model.\n",
    "The controller $C(s)$ is given by:\n",
    "\n",
    "$$\n",
    "C(s) = F(s)G_M^{-1}(s)\n",
    "$$\n",
    "\n",
    "Where $G_M^{-1}(s)$ is the inverse of the transfer function of the model, and $F(s)$ is a filter which is used to keep the dimension of the denominator is second higher than the dimension of the numerator.  \n",
    "In general, this filter is given by:\n",
    "\n",
    "$$\n",
    "F(s) = \\frac{1}{(1+\\alpha s)^n}\n",
    "$$\n",
    "\n",
    "The transfer function from the reference $r$ and the disturbances $d$ to the output $y$ is described as:\n",
    "\n",
    "$$\n",
    "y(s) = \\frac{G_P(s)C(s)}{1+\\{G_P(s)-G_M(s)\\}C(s)}r(s) + \\frac{1-G_M(s)C(s)}{1+\\{G_P(s)-G_M(s)\\}C(s)}d(s)\n",
    "$$"
   ]
  },
  {
   "cell_type": "markdown",
   "metadata": {},
   "source": [
    "# Simulation (Using transfer function)\n",
    "The \"Sympy\" module is useful for the calculation of the transfer function."
   ]
  },
  {
   "cell_type": "code",
   "execution_count": 1,
   "metadata": {},
   "outputs": [],
   "source": [
    "from scipy import signal\n",
    "import numpy as np\n",
    "import sympy as sy\n",
    "s,t = sy.symbols('s t') # Declaration of the variables"
   ]
  },
  {
   "cell_type": "code",
   "execution_count": 2,
   "metadata": {},
   "outputs": [],
   "source": [
    "def lti_to_sympy(lsys, symplify=True):\n",
    "    \"\"\" Convert Scipy's LTI instance to Sympy expression \"\"\"\n",
    "    s = sy.Symbol('s')\n",
    "    G = sy.Poly(lsys.num, s) / sy.Poly(lsys.den, s)\n",
    "    return sy.simplify(G) if symplify else G\n",
    "\n",
    "def sympy_to_lti(xpr, s=sy.Symbol('s')):\n",
    "    \"\"\" Convert Sympy transfer function polynomial to Scipy LTI \"\"\"\n",
    "    num, den = sy.simplify(xpr).as_numer_denom()  # expressions\n",
    "    p_num_den = sy.poly(num, s), sy.poly(den, s)  # polynomials\n",
    "    c_num_den = [sy.expand(p).all_coeffs() for p in p_num_den]  # coefficients\n",
    "    l_num, l_den = [sy.lambdify((), c)() for c in c_num_den]  # convert to floats\n",
    "    return signal.lti(l_num, l_den)"
   ]
  },
  {
   "cell_type": "markdown",
   "metadata": {},
   "source": [
    "## Example (RC circuit)\n",
    "<img src=\"figures/RC.png\" hight=\"150\">\n",
    "We try to control the simple first order system, the RC circuit using IMC.\n",
    "The transfer function of the plant is written as\n",
    "\n",
    "$$\n",
    "G_P(s) = \\frac{Y(s)}{X(s)} = \\frac{1}{CRs+1} \n",
    "$$\n",
    "\n",
    "Also, we set a filter for the controller like:\n",
    "\n",
    "$$\n",
    "F(s) = \\frac{1}{(1+\\alpha s)^1} = \\frac{1}{1+\\alpha s}\n",
    "$$\n",
    "\n",
    "The $n=1$ is enough to keep the controller stable, and we set $\\alpha=0.1$"
   ]
  },
  {
   "cell_type": "code",
   "execution_count": 3,
   "metadata": {},
   "outputs": [],
   "source": [
    "def Plant(C,R):\n",
    "    num = [1] \n",
    "    den = [C*R, 1] \n",
    "    return signal.lti(num, den)"
   ]
  },
  {
   "cell_type": "code",
   "execution_count": 4,
   "metadata": {},
   "outputs": [],
   "source": [
    "def Filter(a=0.1):\n",
    "    num = [1] \n",
    "    den = [a,1] \n",
    "    return signal.lti(num, den)"
   ]
  },
  {
   "cell_type": "markdown",
   "metadata": {},
   "source": [
    "Now we estimate the model. To compare the result, we introduse two transfer functions of the model.  \n",
    "\n",
    "- One is \n",
    "\n",
    "$$G_M(s) = G_P(s) = \\frac{1}{CRs+1}$$\n",
    "\n",
    "which means there is no modelling error, and the model is completely same as the plant.\n",
    "\n",
    "- The other is  \n",
    "\n",
    "$$G_M(s) = \\frac{1}{\\hat{C}\\hat{R}s+1}$$ \n",
    "\n",
    "which means the model has the modelling error. \n",
    "\n",
    "In this example, we set $C=1$, $R=1$, $\\hat{C}=1.2$, $\\hat{R}=1.5$  \n",
    "\n",
    "Now the controller can be obtained using $C(s) = F(s)G_M^{-1}(s)$."
   ]
  },
  {
   "cell_type": "code",
   "execution_count": 5,
   "metadata": {},
   "outputs": [],
   "source": [
    "G_P = Plant(1,1)\n",
    "F = Filter()\n",
    "G_M_error = Plant(1.2,1.5)"
   ]
  },
  {
   "cell_type": "markdown",
   "metadata": {},
   "source": [
    "We convert transfer functions in to sympy expression to make it possible to multiply them."
   ]
  },
  {
   "cell_type": "code",
   "execution_count": 6,
   "metadata": {},
   "outputs": [],
   "source": [
    "G_Ps, Fs = lti_to_sympy(G_P), lti_to_sympy(F)\n",
    "\n",
    "G_Ms = G_Ps\n",
    "G_Ms_error = lti_to_sympy(G_M_error)\n",
    "\n",
    "Cs = Fs*np.reciprocal(G_Ms)\n",
    "Cs_error = Fs*np.reciprocal(G_Ms_error)"
   ]
  },
  {
   "cell_type": "markdown",
   "metadata": {},
   "source": [
    "This system has two inputs and one output, so the transfer function is written as \n",
    "\n",
    "$$\n",
    "y(s) = \\frac{G_P(s)C(s)}{1+\\{G_P(s)-G_M(s)\\}C(s)}r(s) + \\frac{1-G_M(s)C(s)}{1+\\{G_P(s)-G_M(s)\\}C(s)}d(s) = H1(s)\\cdot r(s) + H2(s)\\cdot d(s)\n",
    "$$"
   ]
  },
  {
   "cell_type": "code",
   "execution_count": 7,
   "metadata": {},
   "outputs": [],
   "source": [
    "H1s = sy.nsimplify(Cs*G_Ps / (1+(G_Ps-G_Ms)*Cs)).expand()\n",
    "H2s = sy.nsimplify((1-G_Ms*Cs)/(1+(G_Ps-G_Ms)*Cs)).expand()\n",
    "\n",
    "H1s_error = sy.nsimplify(Cs_error*G_Ps / (1+(G_Ps-G_Ms_error)*Cs_error)).expand()\n",
    "H2s_error = sy.nsimplify((1-G_Ms_error*Cs_error)/(1+(G_Ps-G_Ms_error)*Cs_error)).expand()"
   ]
  },
  {
   "cell_type": "markdown",
   "metadata": {},
   "source": [
    "We convert transfer functions $H1(s)$, $H2(s)$ into scipy expression again."
   ]
  },
  {
   "cell_type": "code",
   "execution_count": 8,
   "metadata": {},
   "outputs": [],
   "source": [
    "H1, H2 = sympy_to_lti(H1s), sympy_to_lti(H2s)\n",
    "H1_error, H2_error = sympy_to_lti(H1s_error), sympy_to_lti(H2s_error)"
   ]
  },
  {
   "cell_type": "markdown",
   "metadata": {},
   "source": [
    "We set the time horizon, the set point $y_{sp}$, and the disturbance $d(t)$ in `numpy.ndarray` type."
   ]
  },
  {
   "cell_type": "code",
   "execution_count": 9,
   "metadata": {},
   "outputs": [],
   "source": [
    "# Time horizon\n",
    "trange = np.linspace(0, 10, 100)\n",
    "\n",
    "# The set point of y\n",
    "y_sp = np.ones(len(trange))\n",
    "\n",
    "# The disturbance\n",
    "d = np.zeros(len(trange))\n",
    "d[50] = 0.5"
   ]
  },
  {
   "cell_type": "markdown",
   "metadata": {},
   "source": [
    "`scipy.signal.lsim` method can simulate output of a continuous-time linear system."
   ]
  },
  {
   "cell_type": "code",
   "execution_count": 10,
   "metadata": {},
   "outputs": [],
   "source": [
    "# Simulate the output of the system\n",
    "tout1, y1, x1 = signal.lsim(H1, U=y_sp, T=trange)\n",
    "tout2, y2, x2 = signal.lsim(H2, U=d, T=trange)\n",
    "y = y1 + y2\n",
    "\n",
    "tout1, y1_error, x1 = signal.lsim(H1_error, U=y_sp, T=trange)\n",
    "tout2, y2_error, x2 = signal.lsim(H2_error, U=d, T=trange)\n",
    "y_error = y1_error + y2_error"
   ]
  },
  {
   "cell_type": "code",
   "execution_count": 11,
   "metadata": {},
   "outputs": [
    {
     "data": {
      "image/png": "[encoded data removed]",
      "text/plain": [
       "<Figure size 432x288 with 1 Axes>"
      ]
     },
     "metadata": {
      "needs_background": "light"
     },
     "output_type": "display_data"
    }
   ],
   "source": [
    "from matplotlib import pyplot as plt\n",
    "%matplotlib inline\n",
    "\n",
    "plt.plot(trange, y, label=\"IMC without the model error\")\n",
    "plt.plot(trange, y_error, label=\"IMC with the model error\")\n",
    "plt.title('System Step Response, with disturbance $0.5$ at $t=5.0[s]$')\n",
    "plt.xlabel('Time (sec.)')\n",
    "plt.ylabel('y(t)')\n",
    "plt.grid(True)\n",
    "plt.legend()\n",
    "plt.show()"
   ]
  },
  {
   "cell_type": "markdown",
   "metadata": {},
   "source": [
    "According to the plot, we can see the IMC make the system go along the reference value even though there is the modelling error in the model."
   ]
  },
  {
   "cell_type": "code",
   "execution_count": null,
   "metadata": {},
   "outputs": [],
   "source": []
  }
 ],
 "metadata": {
  "kernelspec": {
   "display_name": "Python 3",
   "language": "python",
   "name": "python3"
  },
  "language_info": {
   "codemirror_mode": {
    "name": "ipython",
    "version": 3
   },
   "file_extension": ".py",
   "mimetype": "text/x-python",
   "name": "python",
   "nbconvert_exporter": "python",
   "pygments_lexer": "ipython3",
   "version": "3.5.2"
  }
 },
 "nbformat": 4,
 "nbformat_minor": 2
}
