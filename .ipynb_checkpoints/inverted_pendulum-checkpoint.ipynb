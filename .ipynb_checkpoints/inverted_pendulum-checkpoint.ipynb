{
 "cells": [
  {
   "cell_type": "markdown",
   "metadata": {},
   "source": [
    "# Control of an Inverted Pendulum System without Disturbances\n",
    "\n",
    "## using [PID controller], [LQR + PID controller] and [Optimal control (multiple shooting)]"
   ]
  },
  {
   "cell_type": "markdown",
   "metadata": {},
   "source": [
    "_Reference : Optimal Control of Nonlinear Inverted Pendulum Dynamical System with Disturbance Input using PID Controller & LQR : Lal Bahadur Prasad etc. 2011 IEEE International Conference on Control System, Computing and Engineering_"
   ]
  },
  {
   "cell_type": "markdown",
   "metadata": {},
   "source": [
    "# Mathematical Modelling\n",
    "---\n",
    "Let's start modellng a motor-driven inverted pendulum cart system. The system is shown in the below figure.  "
   ]
  },
  {
   "cell_type": "markdown",
   "metadata": {},
   "source": [
    "<img src=\"figures/pendulum.png\" hight=\"150\">"
   ]
  },
  {
   "cell_type": "markdown",
   "metadata": {},
   "source": [
    "It is assumed that the pendulum rod is mass-less, and the hinge is frictionless. The cart mass and the ball point mass at the upper end of the inverted pendulum are denoted $M$ and $m$, respectively. There is an externally x-directed force input on the cart, $u(t)$, and a gravity force acts on the point mass at all times.   \n",
    "**We don't consider wind effects this time.**\n",
    "\n",
    "$x(t)$ represents the cart position and $\\theta(t)$ is the tilt angle referenced to the vertically upward direction.   \n",
    "The position of the ball point can be described as $(x_G, y_G) = (x + lsin\\theta, y + lcos\\theta)$\n",
    "\n",
    "The force balance equation becomes:\n",
    "\n",
    "$$\n",
    "M\\frac{d^2}{dt^2}x + m\\frac{d^2}{dt^2}x_G = u\n",
    "$$\n",
    "\n",
    "which can be manipulated as to give\n",
    "\n",
    "$$\n",
    "(M+m)\\ddot{x} - mlsin\\theta\\dot{\\theta}^2 + mlcos\\theta\\ddot{\\theta} = u　\\tag{1}\\label{eq:1}\n",
    "$$\n",
    "\n",
    "Similarly, the torque balance becomes:\n",
    "\n",
    "$$\n",
    "(F_xcos\\theta)l-(F_ysin\\theta)l = (mgsin\\theta)\n",
    "$$\n",
    "\n",
    "where, $F_x$ and $F_y$ are the forces which affect the ball point mass.($F_x = m\\ddot{x_G}$, $F_y = m\\ddot{y_G}$)\n",
    "So this also can be modified to give:\n",
    "\n",
    "$$\n",
    "m\\ddot{x}cos\\theta + ml\\ddot{\\theta} = mgsin\\theta　\\tag{2}\\label{eq:2}\n",
    "$$\n",
    "\n",
    "## Formulating the standard state form\n",
    "These two nonlinear equation (\\ref{eq:1}) and (\\ref{eq:2}) can be manipulated and put into standard state form.  \n",
    "\n",
    "Solving the torque balance expression for $ml\\ddot{\\theta}$ and putting this into the force baclance equation yields\n",
    "\n",
    "$$\n",
    "ml\\ddot{\\theta} = mgsin\\theta - m\\ddot{x}cos\\theta\n",
    "$$\n",
    "$$\n",
    "[M+m-mcos^2\\theta]\\ddot{x} = u + mlsin\\theta\\dot{\\theta}^2 - mgsin\\theta cos\\theta  \\tag{3}\n",
    "$$\n",
    "\n",
    "Solving the torque balance equation for $\\ddot{x}$ and putting this into the force balance equation yields\n",
    "\n",
    "$$\n",
    "\\ddot{x} = \\frac{mgsin\\theta - ml\\ddot{\\theta}}{mcos\\theta}\n",
    "$$\n",
    "$$\n",
    "(M+m)\\frac{mgsin\\theta - ml\\ddot{\\theta}}{mcos\\theta}- mlsin\\theta\\dot{\\theta}^2 + mlcos\\theta\\ddot{\\theta} = u \\tag{4}\n",
    "$$\n",
    "Multiplying both sides by $cos\\theta$ gives,\n",
    "\n",
    "$$\n",
    "[mlcos^2\\theta-(M+m)l]\\ddot{\\theta} = ucos\\theta - (M+m)gsin\\theta + mlcos\\theta sin\\theta\\dot{\\theta}^2\n",
    "$$\n",
    "\n",
    "Now, the state equation may be written as\n",
    "\n",
    "$$\n",
    "\\frac{d}{dt}\\boldsymbol{x} = \\frac{d}{dt}\\begin{bmatrix}x_1\\\\ x_2\\\\ x_3\\\\ x_4 \\end{bmatrix} = \\frac{d}{dt}\\begin{bmatrix}\\theta\\\\ \\dot\\theta\\\\ x\\\\ \\dot{x} \\end{bmatrix} = \\frac{d}{dt}\\begin{bmatrix}x_2\\\\ f_1\\\\ x_4\\\\ f_2 \\end{bmatrix}\n",
    "$$\n",
    "\n",
    "where, \n",
    "\n",
    "$$\n",
    "f_1 = \\frac{ucosx_1 - (M+m)gsinx_1 + ml(cosx_1sinx_1)x_2^2}{mlcos^2x_1-(M+m)l}\\\\\n",
    "f_2 = \\frac{u + ml(sinx_1)x_2^2 - mgsinx_1 cosx_1}{M+m-mcos^2x_1}\n",
    "$$\n",
    "\n",
    "When the Jacobian matrices are evaluated at the reference point $\\boldsymbol{x_0}=0$, $\\boldsymbol{u_0}=0$ ($sinx_1\\simeq x_1, cosx_1\\simeq 1, x_1^2,x_2^2\\simeq 0$)  \n",
    "A linearized model can be developed as following:\n",
    "\n",
    "$$\n",
    "\\frac{d}{dt}\\delta\\boldsymbol{x} = \\begin{bmatrix}0& 1& 0& 0\\\\ \\frac{(M+m)g}{Ml}& 0& 0& 0\\\\ 0& 0& 0& 1\\\\ -\\frac{mg}{M}& 0& 0& 0 \\end{bmatrix}\\delta\\boldsymbol{x} + \\begin{bmatrix}0\\\\ \\frac{-1}{Ml}\\\\ 0\\\\ \\frac{1}{M} \\end{bmatrix}\\delta u \\tag{5}\n",
    "$$\n",
    "\n",
    "This is the open loop linearized model for the inverted pendulum wi a cart force, $\\delta\\boldsymbol{u}$.\n",
    "Thus, LTI system can be written as\n",
    "\n",
    "$$\n",
    "\\frac{d}{dt}\\delta\\boldsymbol{x} = \\boldsymbol{A}\\delta\\boldsymbol{x} + \\boldsymbol{B}\\delta u \\tag{6}\n",
    "$$\n",
    "\n",
    "If both the pendulum angle $\\theta$ and the cart position $x$ are of interest, we have\n",
    "$$\n",
    "\\boldsymbol{y} = \\begin{bmatrix}\\theta\\\\ x\\end{bmatrix} = \\boldsymbol{Cx} = \\begin{bmatrix}1&0&0&0\\\\0&0&1&0\\end{bmatrix}\\begin{bmatrix}\\theta\\\\ \\dot\\theta\\\\ x\\\\ \\dot{x} \\end{bmatrix}\n",
    "$$"
   ]
  },
  {
   "cell_type": "markdown",
   "metadata": {},
   "source": [
    "## Describing the Model in the code"
   ]
  },
  {
   "cell_type": "code",
   "execution_count": 1,
   "metadata": {},
   "outputs": [],
   "source": [
    "import casadi as ca"
   ]
  },
  {
   "cell_type": "markdown",
   "metadata": {},
   "source": [
    "The typical parameters of inverted pendulum cart system setup are selected as following:  \n",
    "Mass of the cart: $M$ = 2.4 kg  \n",
    "Mass of the pendulum: $m$ = 0.23 kg  \n",
    "Length of the pendulum: $l$ = 0.36 m  \n",
    "Gravity acceleration: $g$ = 9.81 m/s$^2$"
   ]
  },
  {
   "cell_type": "code",
   "execution_count": 2,
   "metadata": {},
   "outputs": [],
   "source": [
    "# System parameters\n",
    "M1 = 2.4   # M\n",
    "M2 = 0.23  # m\n",
    "L = 0.36   # l\n",
    "G = 9.81   # g :Gravity"
   ]
  },
  {
   "cell_type": "markdown",
   "metadata": {},
   "source": [
    "Describe the state equation (5) and (6)."
   ]
  },
  {
   "cell_type": "code",
   "execution_count": 3,
   "metadata": {},
   "outputs": [],
   "source": [
    "# The system equations:   x' = A.x + B.u\n",
    "A = ca.DM([[0,               1,0,0],\n",
    "           [(M1+M2)*G/(M1*L),0,0,0],\n",
    "           [0,               0,0,1],\n",
    "           [-M2*G/M1,        0,0,0]])\n",
    "\n",
    "B = ca.DM([[0       ],\n",
    "          [-1/(M1*L)],\n",
    "          [0        ],\n",
    "          [1/M1     ]])"
   ]
  },
  {
   "cell_type": "code",
   "execution_count": 4,
   "metadata": {},
   "outputs": [],
   "source": [
    "# Declare model variables\n",
    "x = ca.MX.sym('x',4)\n",
    "\n",
    "# Control\n",
    "u = ca.MX.sym('u')\n",
    "\n",
    "# State Equation\n",
    "x_dot = ca.mtimes(A,x) + ca.mtimes(B,u)\n",
    "f = ca.Function('f', [x, u], [x_dot])"
   ]
  },
  {
   "cell_type": "markdown",
   "metadata": {},
   "source": [
    "# PID Controller\n",
    "---"
   ]
  },
  {
   "cell_type": "markdown",
   "metadata": {},
   "source": [
    "To stabilize the inverted pendulum in upright position and to control the cart at desired position using PID control approach, two PID controller, angle PID controller, and cart PID controller have been designed for the two control loops of the system.\n",
    "\n",
    "The equation of PID control are given as following:\n",
    "\n",
    "$$\n",
    "u_p = K_{pp}e_{\\theta}(t) + K_{ip}\\int e_{\\theta}(t)dt + K_{dp}\\frac{de_{\\theta}(t)}{dt}\\\\\n",
    "u_c = K_{pc}e_{x}(t) + K_{ic}\\int e_{x}(t)dt + K_{dc}\\frac{de_{x}(t)}{dt}\n",
    "$$\n",
    "\n",
    "where, $e_{\\theta}(t)$ and $e_{x}(t)$ are the angle error and cart position error.   \n",
    "The tuning of controller parameters is done using trial & error method.\n",
    "\n",
    "At first, we need to decide the rime horizon and number of control intervals in PID control."
   ]
  },
  {
   "cell_type": "code",
   "execution_count": 5,
   "metadata": {},
   "outputs": [],
   "source": [
    "T_pid = 20. # Time horizon\n",
    "N_pid = 2000 # number of control intervals\n",
    "Sampling_time_pid = T_pid/N_pid"
   ]
  },
  {
   "cell_type": "markdown",
   "metadata": {},
   "source": [
    "To estimate the state at the next control interval, Fixed step Runge-Kutta 4 integrator is used.  \n",
    "The code \"`F = ca.Function('F', [X0, U], [X],['x0','p'],['xf'])` \" creates the function which is able to calculate the next interval state $x(i+1)$ with present state $x(i)$ and present input $u(i)$. "
   ]
  },
  {
   "cell_type": "code",
   "execution_count": 6,
   "metadata": {},
   "outputs": [],
   "source": [
    "# Fixed step Runge-Kutta 4 integrator\n",
    "M = 4 # RK4 steps per interval\n",
    "DT = T_pid/N_pid/M\n",
    "X0 = ca.MX.sym('X0', 4)\n",
    "U = ca.MX.sym('U')\n",
    "X = X0\n",
    "for j in range(M):\n",
    "    k1 = f(X, U)\n",
    "    k2 = f(X + DT/2 * k1, U)\n",
    "    k3 = f(X + DT/2 * k2, U)\n",
    "    k4 = f(X + DT * k3, U)\n",
    "    X = X + DT/6*(k1 +2*k2 +2*k3 +k4)\n",
    "    \n",
    "F = ca.Function('F', [X0, U], [X],['x0','p'],['xf'])"
   ]
  },
  {
   "cell_type": "markdown",
   "metadata": {},
   "source": [
    "### Definition of PID controller\n",
    "We select the each Gain for angle and position PID controller.  \n",
    "Also we set the initial state at zero.\n",
    "\n",
    "The reference angle has been set to 0(rad), and the reference cart position is set to 0.1(m)."
   ]
  },
  {
   "cell_type": "code",
   "execution_count": 7,
   "metadata": {},
   "outputs": [],
   "source": [
    "#========================================\n",
    "# Angle PID controller Gain\n",
    "Kpp = -40.\n",
    "Kip = 0.\n",
    "Kdp = -8.\n",
    "\n",
    "# Position PID controller Gain\n",
    "Kpc = -1.25\n",
    "Kic = 0.\n",
    "Kdc = -3.6\n",
    "#========================================\n",
    "# Initial state\n",
    "X_initial = ca.DM([[0],\n",
    "                   [0],\n",
    "                   [0],\n",
    "                   [0]])\n",
    "\n",
    "# References\n",
    "theta_ref = 0.\n",
    "p_ref = 0.1"
   ]
  },
  {
   "cell_type": "markdown",
   "metadata": {},
   "source": [
    "We are going to use discrete PID controller in the code.\n",
    "We approximate $\\int e(t)$ and $\\frac{de(t)}{dt}$ using the finite-difference method, giving\n",
    "\n",
    "$$\n",
    "\\int e(t)dt \\simeq \\sum \\{(e(i)-e(i-1))\\Delta t\\}\\\\\n",
    "\\frac{de(t)}{dt} \\simeq \\frac{e(i)-e(i-1)}{\\Delta t}\n",
    "$$\n",
    "\n",
    "where, $e(t)$ is the error between the reference value and the state value at $i$ step. \n",
    "So input $u$ is represented as\n",
    "\n",
    "$$\n",
    "u_{p}(i) = K_{pp}e_{\\theta}(i) + K_{ip}\\sum (e_{\\theta}(i)-e_{\\theta}(i-1))\\Delta t + K_{dp}\\frac{e_{\\theta}(i)-e_{\\theta}(i-1)}{\\Delta t}\\\\\n",
    "u_{c}(i) = K_{pc}e_{x}(i) + K_{ic}\\sum (e_{x}(i)-e_{x}(i-1))\\Delta t + K_{dc}\\frac{e_{x}(i)-e_{x}(i-1)}{\\Delta t}\\\\\n",
    "u(i) = u_p(i) + u_c(i)\n",
    "$$\n",
    "\n",
    "and calculate state $x$ at (i+1) step using the state $x(i)$ input $u(i)$ at each interval using the for loop."
   ]
  },
  {
   "cell_type": "code",
   "execution_count": 8,
   "metadata": {},
   "outputs": [],
   "source": [
    "# Generate the PID controller\n",
    "P_theta = 0\n",
    "I_theta = 0\n",
    "D_theta = 0\n",
    "Ppre_theta = 0\n",
    "\n",
    "P_p = 0\n",
    "I_p = 0\n",
    "D_p = 0\n",
    "Ppre_p = 0\n",
    "\n",
    "w = []\n",
    "u_pid = []\n",
    "\n",
    "X_k = X_initial\n",
    "\n",
    "for k in range(N_pid):\n",
    "        \n",
    "    w += [X_k[0],X_k[1],X_k[2],X_k[3]]\n",
    "    \n",
    "    P_theta = theta_ref - X_k[0]\n",
    "    I_theta += P_theta*Sampling_time_pid\n",
    "    D_theta = (P_theta - Ppre_theta)/Sampling_time_pid\n",
    "      \n",
    "    P_p = p_ref - X_k[2]\n",
    "    I_p += P_p*Sampling_time_pid\n",
    "    D_p = (P_p - Ppre_p)/Sampling_time_pid\n",
    "    \n",
    "    # PID controller\n",
    "    U_theta = Kpp*P_theta + Kip*I_theta + Kdp*D_theta\n",
    "    U_p = Kpc*P_p + Kic*I_p + Kdc*D_p\n",
    "    \n",
    "    #U = PID_theta + PID_position\n",
    "    U_k = U_theta + U_p\n",
    "    \n",
    "    Ppre_theta = P_theta\n",
    "    Ppre_p = P_p\n",
    "    \n",
    "    if U_k < -1:\n",
    "        U_k = -1\n",
    "    elif U_k > 1:\n",
    "        U_k = 1\n",
    "    \n",
    "    u_pid += [U_k]\n",
    "    \n",
    "    Fk = F(x0=X_k, p=U_k)\n",
    "    \n",
    "    X_k = Fk['xf']\n",
    "\n",
    "# Plot the solution    \n",
    "theta_output_pid = w[0::4]\n",
    "omega_output_pid = w[1::4]\n",
    "p_output_pid = w[2::4]\n",
    "v_output_pid = w[3::4]"
   ]
  },
  {
   "cell_type": "markdown",
   "metadata": {},
   "source": [
    "### Plot the result of PID control"
   ]
  },
  {
   "cell_type": "code",
   "execution_count": 9,
   "metadata": {},
   "outputs": [
    {
     "data": {
      "text/plain": [
       "<Figure size 432x288 with 0 Axes>"
      ]
     },
     "metadata": {},
     "output_type": "display_data"
    },
    {
     "data": {
      "image/png": "[encoded data removed]",
      "text/plain": [
       "<Figure size 720x576 with 3 Axes>"
      ]
     },
     "metadata": {
      "needs_background": "light"
     },
     "output_type": "display_data"
    }
   ],
   "source": [
    "tgrid_pid = [T_pid/N_pid*k for k in range(N_pid)]\n",
    "\n",
    "%matplotlib inline\n",
    "import matplotlib.pyplot as plt\n",
    "\n",
    "plt.clf()\n",
    "\n",
    "fig, axs = plt.subplots(3, 1, figsize=(10, 8))\n",
    "fig.suptitle(\"PID Control of Nonlinear Inverted Pendulum System without Disturbances\", fontsize=12)\n",
    "\n",
    "axs[0].plot(tgrid_pid, theta_output_pid, 'b-')\n",
    "axs[0].plot(tgrid_pid, omega_output_pid, 'r--')\n",
    "axs[0].legend(['theta','thetadot'])\n",
    "axs[0].set_xlim(0,T_pid)\n",
    "axs[0].set_ylabel('theta and thetadot')\n",
    "axs[0].set_ylim(-0.02,0.02)\n",
    "axs[0].grid()\n",
    "\n",
    "axs[1].plot(tgrid_pid, p_output_pid, 'b-')\n",
    "axs[1].plot(tgrid_pid, v_output_pid, 'r--')\n",
    "axs[1].legend(['x','xdot'])\n",
    "axs[1].set_xlim(0,T_pid) \n",
    "axs[1].set_ylim(-0.05,0.20)\n",
    "axs[1].axhline(0.10, color=\"c\", linestyle=\"--\")\n",
    "axs[1].set_ylabel('x and xdot')\n",
    "axs[1].grid()\n",
    "\n",
    "axs[2].step(tgrid_pid, u_pid, 'b-')\n",
    "axs[2].set_xlim(0,T_pid)\n",
    "axs[2].set_ylabel('u')\n",
    "axs[2].set_xlabel('time(sec)')\n",
    "axs[2].set_ylim(-1,1)\n",
    "axs[2].grid()\n",
    "\n",
    "plt.show()"
   ]
  },
  {
   "cell_type": "markdown",
   "metadata": {},
   "source": [
    "# LQR + PID Controller\n",
    "---"
   ]
  },
  {
   "cell_type": "markdown",
   "metadata": {},
   "source": [
    "Linear quadratic regulator (LQR) is one of the optimal control techniques, which takes into account the states of the dynamical system and control input to make the optimal control decisions. This is simple as well as robust.\n",
    "\n",
    "The linear state-place equation is obtained as\n",
    "$$\n",
    "\\boldsymbol{\\dot{X}} = \\boldsymbol{AX} + \\boldsymbol{Bu}\n",
    "$$\n",
    "\n",
    "where, $\\boldsymbol{X} = \\begin{bmatrix}\\theta& \\dot\\theta& x& \\dot{x} \\end{bmatrix}^T$\n",
    "The state feedback control $u= - \\boldsymbol{KX}$ leads to \n",
    "\n",
    "$$\n",
    "\\boldsymbol{\\dot{X}} = (\\boldsymbol{A}-\\boldsymbol{BK})\\boldsymbol{X}\n",
    "$$\n",
    "\n",
    "where, $\\boldsymbol{K}$ is derived from minimization of the cost function\n",
    "\n",
    "$$\n",
    "J = \\int(\\boldsymbol{X^TQX} + \\boldsymbol{u^TRu})dt\n",
    "$$\n",
    "\n",
    "where, $\\boldsymbol{Q}$ and $\\boldsymbol{R}$ are positive semi-definite and positive definite symmetric constant matrices respectively.\n",
    "The LQR gain vector $\\boldsymbol{K}$ is given by\n",
    "\n",
    "$$\n",
    "\\boldsymbol{K}= \\boldsymbol{R^{-1}B^TP}\n",
    "$$\n",
    "\n",
    "where, $\\boldsymbol{P}$ is a positive definite symmetric constant matrix obtained from the solution of matrix algebraic reccatti equation (ARE).\n",
    "\n",
    "$$\n",
    "\\boldsymbol{A^TP} + \\boldsymbol{PA} - \\boldsymbol{PBR^{-1}B^TP} + \\boldsymbol{Q}= 0\n",
    "$$"
   ]
  },
  {
   "cell_type": "code",
   "execution_count": 10,
   "metadata": {},
   "outputs": [],
   "source": [
    "import numpy as np\n",
    "import scipy.linalg as splin"
   ]
  },
  {
   "cell_type": "markdown",
   "metadata": {},
   "source": [
    "At first, we need to decide the time horizon and number of control intervals in LQR + PID control."
   ]
  },
  {
   "cell_type": "code",
   "execution_count": 11,
   "metadata": {},
   "outputs": [],
   "source": [
    "T = 20. # Time horizon in LQR + PID controller\n",
    "N = 2000 # number of control intervals\n",
    "Sampling_time = T/N"
   ]
  },
  {
   "cell_type": "markdown",
   "metadata": {},
   "source": [
    "### Definition of the LQR controller\n",
    "First of all, the system must be controllable, meaning the controllability matrix must be full rank."
   ]
  },
  {
   "cell_type": "code",
   "execution_count": 12,
   "metadata": {},
   "outputs": [],
   "source": [
    "# Check if the system is controllable\n",
    "# -----------------------------------\n",
    "ns = 4  # number of states\n",
    "\n",
    "Rank_matrix = []\n",
    "\n",
    "p = B\n",
    "for i in range(ns):\n",
    "  Rank_matrix.append(p)\n",
    "  p = ca.mtimes([A,p])\n",
    "\n",
    "Rank_matrix = ca.horzcat(*Rank_matrix)\n",
    "\n",
    "# Rank_matrix must be of full rank\n",
    "_, s, _ = np.linalg.svd(Rank_matrix)\n",
    "eps = 1e-9\n",
    "rank =  len([x for x in s if abs(x) > eps])\n",
    "assert(rank==ns)"
   ]
  },
  {
   "cell_type": "markdown",
   "metadata": {},
   "source": [
    "We set weight matrices $\\boldsymbol{Q}$ and $\\boldsymbol{R}$ for the LQR control, and solve the Riccati equation to obtain $\\boldsymbol{P}$.  \n",
    "Scipy has a solver for the Riccati equation (`scipy.linalg.solve_continuous_are`), so we can get $\\boldsymbol{P}$ easily.\n",
    "As a result, the LQR gain vector $\\boldsymbol{K}$ is obtained."
   ]
  },
  {
   "cell_type": "code",
   "execution_count": 13,
   "metadata": {},
   "outputs": [],
   "source": [
    "# Weights for the infinite horizon LQR control\n",
    "Q = ca.DM([[1, 0, 0,    0],\n",
    "           [0, 1, 0,    0],\n",
    "           [0, 0, 500,  0],\n",
    "           [0, 0, 0,  250]])\n",
    "R = ca.DM([1])\n",
    "\n",
    "# Solve the Riccati equation\n",
    "P= splin.solve_continuous_are(A, B, Q, R)\n",
    "\n",
    "# Obtain LQR gain vector\n",
    "K = ca.DM(np.linalg.inv(R).dot(B.T).dot(P))"
   ]
  },
  {
   "cell_type": "markdown",
   "metadata": {},
   "source": [
    "To estimate the state at the next control interval, Fixed step Runge-Kutta 4 integrator is used.  \n",
    "The code \"`F = ca.Function('F', [X0, U], [X],['x0','p'],['xf'])` \" creates the function which is able to calculate the next interval state with present state $x(t)$ and present input $u(t)$. "
   ]
  },
  {
   "cell_type": "code",
   "execution_count": 14,
   "metadata": {},
   "outputs": [],
   "source": [
    "# Fixed step Runge-Kutta 4 integrator\n",
    "M = 4 # RK4 steps per interval\n",
    "DT = T/N/M\n",
    "X0 = ca.MX.sym('X0', 4)\n",
    "U = ca.MX.sym('U')\n",
    "X = X0\n",
    "for j in range(M):\n",
    "    k1 = f(X, U)\n",
    "    k2 = f(X + DT/2 * k1, U)\n",
    "    k3 = f(X + DT/2 * k2, U)\n",
    "    k4 = f(X + DT * k3, U)\n",
    "    X = X + DT/6*(k1 +2*k2 +2*k3 +k4)\n",
    "    \n",
    "F = ca.Function('F', [X0, U], [X],['x0','p'],['xf'])"
   ]
  },
  {
   "cell_type": "markdown",
   "metadata": {},
   "source": [
    "### Definition of the PID controller\n",
    "We select the each Gain for angle and position PID controller by the trial and error method.  \n",
    "Also we set the initial state at zero.\n",
    "\n",
    "The reference angle has been set to 0(rad), and the reference cart position is set to 0.1(m)."
   ]
  },
  {
   "cell_type": "code",
   "execution_count": 15,
   "metadata": {},
   "outputs": [],
   "source": [
    "#========================================\n",
    "# Angle PID controller Gain\n",
    "Kpp = 1\n",
    "Kip = 1\n",
    "Kdp = 1\n",
    "\n",
    "# Position PID controller Gain\n",
    "Kpc = 1.5\n",
    "Kic = -7.5\n",
    "Kdc = 5\n",
    "#========================================\n",
    "# Initial state\n",
    "X_initial = ca.DM([[0],\n",
    "                   [0],\n",
    "                   [0],\n",
    "                   [0]])\n",
    "\n",
    "# References\n",
    "theta_ref = 0.\n",
    "p_ref = 0.1"
   ]
  },
  {
   "cell_type": "markdown",
   "metadata": {},
   "source": [
    "### Generate LQR + PID controller\n",
    "We are going to use both the LQR controller and the discrete PID controller(angle and position) in the code.\n",
    "\n",
    "#### 1. LQR controller\n",
    "The LQR state feedback control at $i$ step is given as:\n",
    "\n",
    "$$\n",
    "u_{LQR}(i)= - \\boldsymbol{Kx(i)}\n",
    "$$\n",
    "\n",
    "#### 2. PID controller\n",
    "We approximate $\\int e(t)$ and $\\frac{de(t)}{dt}$ using the finite-difference method, giving\n",
    "\n",
    "$$\n",
    "\\int e(t)dt \\simeq \\sum (e(i)-e(i-1))\\Delta t\\\\\n",
    "\\frac{de(t)}{dt} \\simeq \\frac{e(i)-e(i-1)}{\\Delta t}\n",
    "$$\n",
    "\n",
    "where, $e(t)$ is the error between the reference value and the state value at $i$ step.  \n",
    "So input $u_{pi}$ and $u_{ci}$ is represented as\n",
    "\n",
    "$$\n",
    "u_{p}(i) = K_{pp}e_{\\theta}(i) + K_{ip}\\sum (e_{\\theta}(i)-e_{\\theta}(i-1))\\Delta t + K_{dp}\\frac{e_{\\theta}(i)-e_{\\theta}(i-1)}{\\Delta t}\\\\\n",
    "u_{c}(i) = K_{pc}e_{x}(i) + K_{ic}\\sum (e_{x}(i)-e_{x}(i-1))\\Delta t + K_{dc}\\frac{e_{x}(i)-e_{x}(i-1)}{\\Delta t}\\\\\n",
    "$$\n",
    "\n",
    "#### 3. Obtain the control at $i$ step\n",
    "Now we put the LQR controller and the PID controller together, giving\n",
    "\n",
    "$$\n",
    "u(i) = u_{LQR}(i) + u_{p}(i) + u_{c}(i)\n",
    "$$\n",
    "\n",
    "and obtain state $x$ at (i+1) step from the state $x(i)$ input $u(i)$ at each interval using the for loop."
   ]
  },
  {
   "cell_type": "code",
   "execution_count": 16,
   "metadata": {},
   "outputs": [],
   "source": [
    "# LQR + PID controller\n",
    "P_theta = 0\n",
    "I_theta = 0\n",
    "D_theta = 0\n",
    "Ppre_theta = 0\n",
    "\n",
    "P_p = 0\n",
    "I_p = 0\n",
    "D_p = 0\n",
    "Ppre_p = 0\n",
    "\n",
    "w = []\n",
    "u_lqrpid = []\n",
    "X_k = X_initial\n",
    "\n",
    "for k in range(N):\n",
    "        \n",
    "    w += [X_k[0],X_k[1],X_k[2],X_k[3]]\n",
    "    \n",
    "    P_theta = theta_ref - X_k[0]\n",
    "    I_theta += P_theta*Sampling_time\n",
    "    D_theta = (P_theta - Ppre_theta)/Sampling_time\n",
    "      \n",
    "    P_p = p_ref - X_k[2]\n",
    "    I_p += P_p*Sampling_time\n",
    "    D_p = (P_p - Ppre_p)/Sampling_time\n",
    "    \n",
    "    # PID controller\n",
    "    U_theta = Kpp*P_theta + Kip*I_theta + Kdp*D_theta\n",
    "    U_p = Kpc*P_p + Kic*I_p + Kdc*D_p\n",
    "    \n",
    "    Ppre_theta = P_theta\n",
    "    Ppre_p = P_p\n",
    "    \n",
    "    # LQR feedback\n",
    "    U_lqr = -np.dot(K, X_k)\n",
    "    \n",
    "    #U = PID_theta + PID_position - LQR feedback\n",
    "    U_k = U_theta + U_p + U_lqr\n",
    "    \n",
    "    if U_k < -1:\n",
    "        U_k = -1\n",
    "    elif U_k > 1:\n",
    "        U_k = 1\n",
    "    \n",
    "    u_lqrpid += [U_k]\n",
    "\n",
    "    Fk = F(x0=X_k, p=U_k)\n",
    "    \n",
    "    X_k = Fk['xf']\n",
    "\n",
    "# Plot the solution    \n",
    "theta_output_lqrpid = w[0::4]\n",
    "omega_output_lqrpid = w[1::4]\n",
    "p_output_lqrpid = w[2::4]\n",
    "v_output_lqrpid = w[3::4]"
   ]
  },
  {
   "cell_type": "markdown",
   "metadata": {},
   "source": [
    "### Plot the result of LQR + PID control"
   ]
  },
  {
   "cell_type": "code",
   "execution_count": 17,
   "metadata": {},
   "outputs": [
    {
     "data": {
      "text/plain": [
       "<Figure size 432x288 with 0 Axes>"
      ]
     },
     "metadata": {},
     "output_type": "display_data"
    },
    {
     "data": {
      "image/png": "[encoded data removed]",
      "text/plain": [
       "<Figure size 720x576 with 3 Axes>"
      ]
     },
     "metadata": {
      "needs_background": "light"
     },
     "output_type": "display_data"
    }
   ],
   "source": [
    "tgrid_lqrpid = [T/N*k for k in range(N)]\n",
    "import matplotlib.pyplot as plt\n",
    "\n",
    "plt.clf()\n",
    "\n",
    "fig, axs = plt.subplots(3, 1, figsize=(10, 8))\n",
    "fig.suptitle(\"LQR + PID Control of Nonlinear Inverted Pendulum System without Disturbances\", fontsize=12)\n",
    "\n",
    "axs[0].plot(tgrid_lqrpid, theta_output_lqrpid, 'b-')\n",
    "axs[0].plot(tgrid_lqrpid, omega_output_lqrpid, 'r--')\n",
    "axs[0].legend(['theta','thetadot'])\n",
    "axs[0].set_xlim(0,T)\n",
    "axs[0].set_ylabel('theta and thetadot')\n",
    "axs[0].set_ylim(-0.02,0.04)\n",
    "axs[0].grid()\n",
    "\n",
    "axs[1].plot(tgrid_lqrpid, p_output_lqrpid, 'b-')\n",
    "axs[1].plot(tgrid_lqrpid, v_output_lqrpid, 'r--')\n",
    "axs[1].legend(['x','xdot'])\n",
    "axs[1].set_xlim(0,T) \n",
    "axs[1].set_ylim(-0.05,0.20)\n",
    "axs[1].axhline(0.10, color=\"c\", linestyle=\"--\")\n",
    "axs[1].set_ylabel('x and xdot')\n",
    "axs[1].grid()\n",
    "\n",
    "axs[2].step(tgrid_lqrpid, u_lqrpid, 'b-')\n",
    "axs[2].set_xlim(0,T)\n",
    "axs[2].set_ylabel('u')\n",
    "axs[2].set_xlabel('time(sec)')\n",
    "axs[2].set_ylim(-1,1)\n",
    "axs[2].grid()\n",
    "\n",
    "plt.show()"
   ]
  },
  {
   "cell_type": "markdown",
   "metadata": {},
   "source": [
    "# Multiple Shooting Method\n",
    "---\n",
    "We will regard this operation as nonlinear optimization problem like:\n",
    "$$\n",
    "\\min_{\\boldsymbol{x},u}\\int_{t=0}^T (x_1^2 + (x_3 - 0.1)^2 + u^2) dt\\\\\n",
    "$$\n",
    "subject to \n",
    "$$\n",
    "\\frac{d}{dt}\\begin{bmatrix}\\theta\\\\ \\dot\\theta\\\\ x\\\\ \\dot{x} \\end{bmatrix}=\\frac{d}{dt}\\begin{bmatrix}x_1\\\\ x_2\\\\ x_3\\\\ x_4 \\end{bmatrix} = \\begin{bmatrix}0& 1& 0& 0\\\\ \\frac{(M+m)g}{Ml}& 0& 0& 0\\\\ 0& 0& 0& 1\\\\ -\\frac{mg}{M}& 0& 0& 0 \\end{bmatrix}\\begin{bmatrix}x_1\\\\ x_2\\\\ x_3\\\\ x_4 \\end{bmatrix} + \\begin{bmatrix}0\\\\ \\frac{-1}{Ml}\\\\ 0\\\\ \\frac{1}{M} \\end{bmatrix}\\delta u\n",
    "$$\n",
    "$$\n",
    "x_1(0)=0\\\\\n",
    "x_2(0)=0\\\\\n",
    "x_3(0)=0\\\\\n",
    "x_4(0)=0\\\\\n",
    "-1.0\\le u \\le 1.0\\\\\n",
    "\\rm{with}\\; T=20\n",
    "$$\n",
    "\n",
    "We will try to solve this problem in direct multiple shooting method using casadi.  \n",
    "First of all, we need to set the time horizon and number of control intervals, and we also need to declare model equation and objective term $L = x_1^2 + (x_3 - 0.1)^2 + u^2$"
   ]
  },
  {
   "cell_type": "code",
   "execution_count": 18,
   "metadata": {},
   "outputs": [],
   "source": [
    "T = 20. # Time horizon \n",
    "N = 2000 # number of control intervals"
   ]
  },
  {
   "cell_type": "code",
   "execution_count": 19,
   "metadata": {},
   "outputs": [],
   "source": [
    "# Declare model variables\n",
    "x = ca.MX.sym('x',4)\n",
    "theta = x[0]\n",
    "omega = x[1]\n",
    "p = x[2]\n",
    "v = x[3]\n",
    "\n",
    "# Control\n",
    "u = ca.MX.sym('u')"
   ]
  },
  {
   "cell_type": "code",
   "execution_count": 20,
   "metadata": {},
   "outputs": [],
   "source": [
    "# State Equation\n",
    "theta_dot = omega\n",
    "omega_dot = (M1+M2)*G/(M1*L)*theta - u/(M1*L)\n",
    "p_dot = v\n",
    "v_dot = (-1*M2*G)/M1*theta + u/M1\n",
    "\n",
    "x_dot = ca.vertcat(theta_dot,omega_dot,p_dot,v_dot)\n",
    "\n",
    "# Cost Function\n",
    "L = theta**2 + (p - 0.1)**2 + u**2"
   ]
  },
  {
   "cell_type": "markdown",
   "metadata": {},
   "source": [
    "We will generate the integrator to approximate $\\boldsymbol{x}$ and $\\int_{t=0}^T Ldt$ from $\\dot{\\boldsymbol{x}}$ and $L$ using Fixed step Runge-Kutta 4 integrator.\n",
    "Where, $DT$ is one step time of RK4, $X0$ is the initial value of $\\boldsymbol{x}$, $U$ is a control variable that is constant in one control interval, $Q$ is an approximation of $\\int_{t=0}^T Ldt$.  "
   ]
  },
  {
   "cell_type": "code",
   "execution_count": 21,
   "metadata": {},
   "outputs": [],
   "source": [
    "# Fixed step Runge-Kutta 4 integrator\n",
    "M = 4 # RK4 steps per interval\n",
    "DT = T/N/M\n",
    "f = ca.Function('f', [x, u], [x_dot, L])\n",
    "X0 = ca.MX.sym('X0', 4)\n",
    "U = ca.MX.sym('U')\n",
    "X = X0\n",
    "Q = 0\n",
    "for j in range(M):\n",
    "    k1, k1_q = f(X, U)\n",
    "    k2, k2_q = f(X + DT/2 * k1, U)\n",
    "    k3, k3_q = f(X + DT/2 * k2, U)\n",
    "    k4, k4_q = f(X + DT * k3, U)\n",
    "    X = X + DT/6*(k1 +2*k2 +2*k3 +k4)\n",
    "    Q = Q + DT/6*(k1_q + 2*k2_q + 2*k3_q + k4_q)\n",
    "F = ca.Function('F', [X0, U], [X, Q],['x0','p'],['xf','qf'])"
   ]
  },
  {
   "cell_type": "markdown",
   "metadata": {},
   "source": [
    "### Formulate the NLP (Non-Linear Program)\n",
    "\n",
    "We declare control variables $w$, variables bouds $lbx,ubx$, a cost function $J$, Constraints $g$, Constraints bounds $lbg,ubg$.  \n",
    "We will start a cost function $J$ with zero, the others with the empty list.   \n",
    "Where,  \n",
    "$lbx$: lower bound of $x$  \n",
    "$ubx$: upper bound of $x$  \n",
    "$lbg$: lower bound of $g$  \n",
    "$ubg$: upper bound of $g$  "
   ]
  },
  {
   "cell_type": "code",
   "execution_count": 22,
   "metadata": {},
   "outputs": [],
   "source": [
    "# Start with an empty NLP\n",
    "w=[]      #Control variables\n",
    "w0 = []   #Initial variables\n",
    "lbw = []  #Lower bound of w\n",
    "ubw = []  #Upper bound of w\n",
    "J = 0     #Cost Function\n",
    "g=[]      #Constraints\n",
    "lbg = []  #Lower bound of Constraints\n",
    "ubg = []  #Upper bound of Constraints"
   ]
  },
  {
   "cell_type": "code",
   "execution_count": 23,
   "metadata": {},
   "outputs": [],
   "source": [
    "# \"Lift\" initial conditions\n",
    "Xk = ca.MX.sym('X0', 4)\n",
    "w += [Xk]\n",
    "lbw += [0., 0., 0., 0.]\n",
    "ubw += [0., 0., 0., 0.]\n",
    "w0 += [0., 0., 0., 0.]"
   ]
  },
  {
   "cell_type": "markdown",
   "metadata": {},
   "source": [
    "In multiple shooting method, we need to set initial value at every iterval, now we guess everything is zero at first.\n",
    "\n",
    "Also, continuity constraints should be considered.   \n",
    "**`# Add equality constraint`<br>\n",
    "`g   += [Xk_end-Xk]`<br>\n",
    "`lbg += [0., 0., 0., 0.]`<br>\n",
    "`ubg += [0., 0., 0., 0.]`**  \n",
    "In this code, both $lbg$ and $ubg$ are $[0, 0, 0, 0]$. Because of this constraint, solver will try to make the trajectory of state variables continuous."
   ]
  },
  {
   "cell_type": "code",
   "execution_count": 24,
   "metadata": {},
   "outputs": [],
   "source": [
    "# Formulate the NLP\n",
    "for k in range(N):\n",
    "    # New NLP variable for the control\n",
    "    Uk = ca.MX.sym('U_' + str(k))\n",
    "    w   += [Uk]\n",
    "    lbw += [-1.]\n",
    "    ubw += [1.]\n",
    "    w0  += [0.]\n",
    "\n",
    "    # Integrate till the end of the interval\n",
    "    Fk = F(x0=Xk, p=Uk)\n",
    "    Xk_end = Fk['xf']\n",
    "    J=J+Fk['qf']\n",
    "\n",
    "    # New NLP variable for state at end of interval\n",
    "    Xk = ca.MX.sym('X_' + str(k+1), 4)\n",
    "    w   += [Xk]\n",
    "    lbw += [-ca.inf, -ca.inf, -5., -ca.inf]\n",
    "    ubw += [ ca.inf,  ca.inf,  5.,  ca.inf]\n",
    "    w0  += [0., 0., 0., 0.]\n",
    "\n",
    "    # Add equality constraint\n",
    "    g   += [Xk_end-Xk]\n",
    "    lbg += [0., 0., 0., 0.]\n",
    "    ubg += [0., 0., 0., 0.]"
   ]
  },
  {
   "cell_type": "code",
   "execution_count": 25,
   "metadata": {},
   "outputs": [],
   "source": [
    "# Create an NLP solver\n",
    "prob = {'f': J, 'x': ca.vertcat(*w), 'g': ca.vertcat(*g)}\n",
    "solver = ca.nlpsol('solver', 'ipopt', prob);"
   ]
  },
  {
   "cell_type": "markdown",
   "metadata": {},
   "source": [
    "Finally, we can move to the calculation the optimal solution.  \n",
    "We have to set bounds(lbx, ubx, lbg, ubg) to use the solver which we declared earlier.  \n",
    "As a result, we can get the optimal $\\boldsymbol{x}$ and the optimal $u$."
   ]
  },
  {
   "cell_type": "code",
   "execution_count": 26,
   "metadata": {},
   "outputs": [
    {
     "name": "stdout",
     "output_type": "stream",
     "text": [
      "\n",
      "******************************************************************************\n",
      "This program contains Ipopt, a library for large-scale nonlinear optimization.\n",
      " Ipopt is released as open source code under the Eclipse Public License (EPL).\n",
      "         For more information visit http://projects.coin-or.org/Ipopt\n",
      "******************************************************************************\n",
      "\n",
      "This is Ipopt version 3.12.3, running with linear solver mumps.\n",
      "NOTE: Other linear solvers might be more efficient (see Ipopt documentation).\n",
      "\n",
      "Number of nonzeros in equality constraint Jacobian...:    37989\n",
      "Number of nonzeros in inequality constraint Jacobian.:        0\n",
      "Number of nonzeros in Lagrangian Hessian.............:    29986\n",
      "\n",
      "Total number of variables............................:    10000\n",
      "                     variables with only lower bounds:        0\n",
      "                variables with lower and upper bounds:     4000\n",
      "                     variables with only upper bounds:        0\n",
      "Total number of equality constraints.................:     8000\n",
      "Total number of inequality constraints...............:        0\n",
      "        inequality constraints with only lower bounds:        0\n",
      "   inequality constraints with lower and upper bounds:        0\n",
      "        inequality constraints with only upper bounds:        0\n",
      "\n",
      "iter    objective    inf_pr   inf_du lg(mu)  ||d||  lg(rg) alpha_du alpha_pr  ls\n",
      "   0  2.0000000e-01 0.00e+00 2.04e-03  -1.0 0.00e+00    -  0.00e+00 0.00e+00   0\n",
      "   1  1.8489356e-01 2.60e-18 1.22e-15  -1.0 4.97e-03    -  1.00e+00 1.00e+00f  1\n",
      "   2  4.8954939e-02 4.16e-17 6.56e-16  -2.5 7.10e-02    -  1.00e+00 1.00e+00f  1\n",
      "   3  2.6716175e-02 4.16e-17 7.63e-16  -3.8 5.88e-02    -  1.00e+00 1.00e+00f  1\n",
      "   4  2.6616216e-02 4.16e-17 3.82e-16  -5.7 9.87e-03    -  1.00e+00 1.00e+00f  1\n",
      "   5  2.6616198e-02 4.16e-17 1.94e-16  -8.6 2.35e-04    -  1.00e+00 1.00e+00h  1\n",
      "\n",
      "Number of Iterations....: 5\n",
      "\n",
      "                                   (scaled)                 (unscaled)\n",
      "Objective...............:   2.6616198234844450e-02    2.6616198234844450e-02\n",
      "Dual infeasibility......:   1.9419924381699344e-16    1.9419924381699344e-16\n",
      "Constraint violation....:   4.1633363423443370e-17    4.1633363423443370e-17\n",
      "Complementarity.........:   4.1632932859362395e-09    4.1632932859362395e-09\n",
      "Overall NLP error.......:   4.1632932859362395e-09    4.1632932859362395e-09\n",
      "\n",
      "\n",
      "Number of objective function evaluations             = 6\n",
      "Number of objective gradient evaluations             = 6\n",
      "Number of equality constraint evaluations            = 6\n",
      "Number of inequality constraint evaluations          = 0\n",
      "Number of equality constraint Jacobian evaluations   = 6\n",
      "Number of inequality constraint Jacobian evaluations = 0\n",
      "Number of Lagrangian Hessian evaluations             = 5\n",
      "Total CPU secs in IPOPT (w/o function evaluations)   =      2.877\n",
      "Total CPU secs in NLP function evaluations           =     30.233\n",
      "\n",
      "EXIT: Optimal Solution Found.\n",
      "               t_proc [s]   t_wall [s]    n_eval\n",
      "       nlp_f         1.44         1.44         6\n",
      "       nlp_g         1.48         1.48         6\n",
      "  nlp_grad_f         4.94         4.92         7\n",
      "  nlp_hess_l           14           14         5\n",
      "   nlp_jac_g         10.6         10.6         7\n",
      "      solver         33.2         33.2         1\n"
     ]
    }
   ],
   "source": [
    "# Solve the NLP\n",
    "sol = solver(x0=w0, lbx=lbw, ubx=ubw, lbg=lbg, ubg=ubg)\n",
    "w_opt = sol['x'].full().flatten()\n",
    "\n",
    "# Plot the solution\n",
    "theta_opt = w_opt[0::5]\n",
    "omega_opt = w_opt[1::5]\n",
    "p_opt = w_opt[2::5]\n",
    "v_opt = w_opt[3::5]\n",
    "u_opt = w_opt[4::5]"
   ]
  },
  {
   "cell_type": "markdown",
   "metadata": {},
   "source": [
    "### Plot the result of Multiple Shooting Method"
   ]
  },
  {
   "cell_type": "code",
   "execution_count": 27,
   "metadata": {},
   "outputs": [
    {
     "data": {
      "text/plain": [
       "<Figure size 432x288 with 0 Axes>"
      ]
     },
     "metadata": {},
     "output_type": "display_data"
    },
    {
     "data": {
      "image/png": "[encoded data removed]",
      "text/plain": [
       "<Figure size 720x576 with 3 Axes>"
      ]
     },
     "metadata": {
      "needs_background": "light"
     },
     "output_type": "display_data"
    }
   ],
   "source": [
    "tgrid = [T/N*k for k in range(N+1)]\n",
    "tgrid2 = [T/N*k for k in range(N)]\n",
    "import matplotlib.pyplot as plt\n",
    "\n",
    "plt.clf()\n",
    "\n",
    "fig, axs = plt.subplots(3, 1, figsize=(10, 8))\n",
    "fig.suptitle(\"Multiple Shooting Optimal Control of Nonlinear Inverted Pendulum System without Disturbances\\n L=x_1^2 + (x_3 - 0.1)^2 + u^2\", fontsize=12)\n",
    "\n",
    "axs[0].plot(tgrid, theta_opt, 'b-')\n",
    "axs[0].plot(tgrid, omega_opt, 'r--')\n",
    "axs[0].legend(['theta','thetadot'])\n",
    "axs[0].set_xlim(0,20)\n",
    "axs[0].set_ylim(-0.02,0.04)\n",
    "axs[0].set_ylabel('theta and thetadot')\n",
    "axs[0].grid()\n",
    "\n",
    "axs[1].plot(tgrid, p_opt, 'b-')\n",
    "axs[1].plot(tgrid, v_opt, 'r--')\n",
    "axs[1].legend(['x','xdot'])\n",
    "axs[1].set_xlim(0,20) \n",
    "axs[1].set_ylim(-0.05,0.20)\n",
    "axs[1].axhline(0.10, color=\"c\", linestyle=\"--\")\n",
    "axs[1].set_ylabel('x and xdot')\n",
    "axs[1].grid()\n",
    "\n",
    "axs[2].step(tgrid2, u_opt, 'b-')\n",
    "axs[2].set_xlim(0,20)\n",
    "axs[2].set_ylim(-1,1)\n",
    "axs[2].set_ylabel('u')\n",
    "axs[2].set_xlabel('time(sec)')\n",
    "axs[2].grid()\n",
    "\n",
    "plt.show()"
   ]
  },
  {
   "cell_type": "markdown",
   "metadata": {},
   "source": [
    "# Comparison of the control strategies\n",
    "---"
   ]
  },
  {
   "cell_type": "code",
   "execution_count": 28,
   "metadata": {},
   "outputs": [
    {
     "data": {
      "text/plain": [
       "<Figure size 432x288 with 0 Axes>"
      ]
     },
     "metadata": {},
     "output_type": "display_data"
    },
    {
     "data": {
      "image/png": "[encoded data removed]",
      "text/plain": [
       "<Figure size 720x576 with 3 Axes>"
      ]
     },
     "metadata": {
      "needs_background": "light"
     },
     "output_type": "display_data"
    }
   ],
   "source": [
    "plt.clf()\n",
    "\n",
    "fig, axs = plt.subplots(3, 1, figsize=(10, 8))\n",
    "\n",
    "axs[0].plot(tgrid_pid, theta_output_pid, 'g-')\n",
    "axs[0].plot(tgrid_lqrpid, theta_output_lqrpid, 'r-')\n",
    "axs[0].plot(tgrid, theta_opt, 'b-')\n",
    "\n",
    "axs[0].legend(['PID','LQR + PID','Multiple Shooting'])\n",
    "axs[0].set_xlim(0,20)\n",
    "axs[0].set_ylim(-0.01,0.01)\n",
    "axs[0].set_ylabel('theta')\n",
    "axs[0].grid()\n",
    "\n",
    "axs[1].plot(tgrid_pid, p_output_pid, 'g-')\n",
    "axs[1].plot(tgrid_lqrpid, p_output_lqrpid, 'r-')\n",
    "axs[1].plot(tgrid, p_opt, 'b-')\n",
    "axs[1].legend(['PID','LQR + PID','Multiple Shooting'])\n",
    "axs[1].set_xlim(0,20) \n",
    "axs[1].set_ylim(-0.05,0.15)\n",
    "axs[1].axhline(0.10, color=\"c\", linestyle=\"--\")\n",
    "axs[1].set_ylabel('x')\n",
    "axs[1].grid()\n",
    "\n",
    "axs[2].step(tgrid_pid, u_pid, 'g-')\n",
    "axs[2].step(tgrid_lqrpid, u_lqrpid, 'r-')\n",
    "axs[2].step(tgrid2, u_opt, 'b-')\n",
    "axs[2].legend(['PID','LQR + PID','Multiple Shooting'])\n",
    "axs[2].set_xlim(0,20)\n",
    "axs[2].set_ylim(-0.2,0.2)\n",
    "axs[2].set_ylabel('u')\n",
    "axs[2].set_xlabel('time(sec)')\n",
    "axs[2].grid()\n",
    "\n",
    "plt.show()"
   ]
  },
  {
   "cell_type": "code",
   "execution_count": null,
   "metadata": {},
   "outputs": [],
   "source": []
  }
 ],
 "metadata": {
  "kernelspec": {
   "display_name": "Python 3",
   "language": "python",
   "name": "python3"
  },
  "language_info": {
   "codemirror_mode": {
    "name": "ipython",
    "version": 3
   },
   "file_extension": ".py",
   "mimetype": "text/x-python",
   "name": "python",
   "nbconvert_exporter": "python",
   "pygments_lexer": "ipython3",
   "version": "3.6.5"
  }
 },
 "nbformat": 4,
 "nbformat_minor": 2
}
