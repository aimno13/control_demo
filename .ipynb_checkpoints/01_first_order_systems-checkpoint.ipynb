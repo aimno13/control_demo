{
 "cells": [
  {
   "cell_type": "markdown",
   "metadata": {},
   "source": [
    "# Control Tutorial_1\n",
    "_Reference :_ [Electrical installation & energy efficiency\n",
    "Electrical engineering Community](http://engineering.electrical-equipment.org/panel-building/introduction-to-second-order-systems.html), [First Order System Types from Control Labraory](http://engineering.ju.edu.jo/Laboratories/04%20-%20First%20Order%20System.pdf)"
   ]
  },
  {
   "cell_type": "markdown",
   "metadata": {},
   "source": [
    "# First order systems\n",
    "---\n",
    "\n",
    "The standard transfer function of first order system is given by:\n",
    "$$\n",
    "G(s) = \\frac{Y(s)}{X(s)} = \\frac{K}{Ts+1}\n",
    "$$\n",
    "Where, $K$ is the system gain, $T$ is the time constant for a first order system."
   ]
  },
  {
   "cell_type": "markdown",
   "metadata": {},
   "source": [
    "### Example for first order systems (RC circuit)\n",
    "\n",
    "<img src=\"figures/RC.png\" hight=\"150\">\n",
    "\n",
    "Where, $R$ is the resistance of the resistor, $C$ is the capacitance of the capacitor, $x(t) \\rm{[V]}$ is Input, $y(t)\\rm{[V]}$ is Output, and $i(t)\\rm{[A]}$ is the electric current at $t$.  \n",
    "The relationship between current $i(t)$ and output $y(t)$ is given as  \n",
    "$$\n",
    "i(t) = C \\dot{y}(t)\n",
    "$$\n",
    "So, this system is represented as the differential equation below:  \n",
    "$$\n",
    "CR\\dot{y}(t) + y(t) = x(t)\n",
    "$$\n",
    "\n",
    "This results in the following equation in the Laplace domain:    \n",
    "$$\n",
    "CR\\{sY(s)-y(0)\\} + Y(s) = X(s)\n",
    "$$\n",
    "\n",
    "We assuming $y(0)$ to be zero when we consider transfer function. So, the transfer function of the RC circuit is given as:\n",
    "\n",
    "$$\n",
    "G(s) = \\frac{Y(s)}{X(s)} = \\frac{1}{CRs+1} \n",
    "$$\n",
    "\n",
    "In this case, the DC gain $K =1$, the time constant $T$ is represented as $T = CR$"
   ]
  },
  {
   "cell_type": "markdown",
   "metadata": {},
   "source": [
    "# Simulation"
   ]
  },
  {
   "cell_type": "code",
   "execution_count": 1,
   "metadata": {},
   "outputs": [],
   "source": [
    "from scipy import signal\n",
    "import numpy as np\n",
    "from matplotlib import pyplot as plt\n",
    "from ipywidgets import interactive\n",
    "%matplotlib inline"
   ]
  },
  {
   "cell_type": "markdown",
   "metadata": {},
   "source": [
    "We can declare the continuous-time linear time invariant system using the \"`scipy.signal.lti`\" method."
   ]
  },
  {
   "cell_type": "code",
   "execution_count": 2,
   "metadata": {},
   "outputs": [],
   "source": [
    "def First_sys(K,T):\n",
    "    num = [K] \n",
    "    den = [T, 1] \n",
    "    return signal.lti(num, den)"
   ]
  },
  {
   "cell_type": "markdown",
   "metadata": {},
   "source": [
    "### 1. Impulse response\n",
    "\n",
    "The unit impulse input is given by:\n",
    "\n",
    "$$\n",
    "  x(t) = \\delta(t) = \\left\\{ \\begin{array}{ll}\n",
    "    \\infty & (t=0) \\\\\n",
    "    0 & (otherwise)\n",
    "  \\end{array} \\right.\n",
    "$$\n",
    "\n",
    "The transfer function of the input in the Laplace domain is $X(s)=1$. So the output transform will be\n",
    "\n",
    "$$\n",
    "Y(s) = \\frac{K}{Ts+1}\n",
    "$$\n",
    "\n",
    "By taking inverse Laplace transform, we get\n",
    "\n",
    "$$\n",
    "y(t) = \\frac{K}{T} \\rm{e}^{-\\frac{t}{T}}\n",
    "$$"
   ]
  },
  {
   "cell_type": "markdown",
   "metadata": {},
   "source": [
    "We can simulate the impulse response of the system in Python using \"`scipy.signal.impulse`\" method.  \n",
    "More information: https://docs.scipy.org/doc/scipy/reference/generated/scipy.signal.impulse.html#scipy.signal.impulse"
   ]
  },
  {
   "cell_type": "code",
   "execution_count": 3,
   "metadata": {},
   "outputs": [
    {
     "data": {
      "application/vnd.jupyter.widget-view+json": {
       "model_id": "5f0a27758e8a4702a0c080ddd73a7317",
       "version_major": 2,
       "version_minor": 0
      },
      "text/plain": [
       "interactive(children=(FloatSlider(value=1.0, description='K', max=2.0, min=0.1), FloatSlider(value=1.0, descri…"
      ]
     },
     "metadata": {},
     "output_type": "display_data"
    }
   ],
   "source": [
    "def First_Impulse(K = 1,T = 1):\n",
    "    G = First_sys(K,T)\n",
    "    horizon = np.linspace(0, 10, 100)\n",
    "    t, y = signal.impulse(G, T=horizon)\n",
    "    plt.plot(t,y)\n",
    "    plt.title(\"Unit-Impulse Response of the First-order system\")\n",
    "    plt.ylabel(\"y(t)\")\n",
    "    plt.xlabel(\"Time (sec)\")\n",
    "    plt.xlim(0, 10)\n",
    "    plt.ylim(0, 2)\n",
    "    plt.grid(True)\n",
    "    plt.show()\n",
    "\n",
    "interactive_plot = interactive(First_Impulse, K=(0.1 , 2 ,0.1) ,T=(0.1, 2, 0.1))\n",
    "output = interactive_plot.children[-1]\n",
    "output.layout.width = '600px'\n",
    "interactive_plot"
   ]
  },
  {
   "cell_type": "markdown",
   "metadata": {},
   "source": [
    "### 2. Step response\n",
    "\n",
    "The transfer function of input is given by:\n",
    "\n",
    "$$\n",
    "X(s) = \\frac{1}{s}\n",
    "$$\n",
    "\n",
    "Therefore the unit step response is:\n",
    "\n",
    "$$\n",
    "Y(s) = \\frac{K}{s(Ts+1)}\n",
    "$$\n",
    "\n",
    "By taking inverse laplace transform, we get\n",
    "\n",
    "$$\n",
    "y(t) = K - e^{-\\frac{t}{T}}\n",
    "$$"
   ]
  },
  {
   "cell_type": "markdown",
   "metadata": {},
   "source": [
    "We can simulate the step response of the system in Python using \"`scipy.signal.step`\" method.  \n",
    "More information : https://docs.scipy.org/doc/scipy/reference/generated/scipy.signal.step.html"
   ]
  },
  {
   "cell_type": "code",
   "execution_count": 4,
   "metadata": {},
   "outputs": [
    {
     "data": {
      "application/vnd.jupyter.widget-view+json": {
       "model_id": "fd7fa1550cde44fdb17e2d72e702c264",
       "version_major": 2,
       "version_minor": 0
      },
      "text/plain": [
       "interactive(children=(FloatSlider(value=1.0, description='K', max=2.0, min=0.1), FloatSlider(value=1.0, descri…"
      ]
     },
     "metadata": {},
     "output_type": "display_data"
    }
   ],
   "source": [
    "def First_Step(K = 1,T = 1):\n",
    "    G = First_sys(K,T)\n",
    "    horizon = np.linspace(0, 10, 100)\n",
    "    t, y = signal.step(G, T=horizon)\n",
    "    plt.plot(t,y)\n",
    "    plt.title(\"Unit-Step Response of the First-order system\")\n",
    "    plt.ylabel(\"y(t)\")\n",
    "    plt.xlabel(\"Time (sec)\")\n",
    "    plt.xlim(0, 10)\n",
    "    plt.ylim(0, 2)\n",
    "    plt.grid(True)\n",
    "    plt.show()\n",
    "\n",
    "interactive_plot = interactive(First_Step, K=(0.1 , 2 ,0.1) ,T=(0.1, 2, 0.1))\n",
    "output = interactive_plot.children[-1]\n",
    "output.layout.width = '600px'\n",
    "interactive_plot"
   ]
  },
  {
   "cell_type": "code",
   "execution_count": null,
   "metadata": {},
   "outputs": [],
   "source": []
  }
 ],
 "metadata": {
  "kernelspec": {
   "display_name": "Python 3",
   "language": "python",
   "name": "python3"
  },
  "language_info": {
   "codemirror_mode": {
    "name": "ipython",
    "version": 3
   },
   "file_extension": ".py",
   "mimetype": "text/x-python",
   "name": "python",
   "nbconvert_exporter": "python",
   "pygments_lexer": "ipython3",
   "version": "3.5.2"
  }
 },
 "nbformat": 4,
 "nbformat_minor": 2
}
