{
 "cells": [
  {
   "cell_type": "markdown",
   "metadata": {},
   "source": [
    "# Control Tutorial_5\n",
    "_Reference : The Control Handbook, Control System Fundamentals, Edited by William S.Levine from p9-70 to p9-73_"
   ]
  },
  {
   "cell_type": "markdown",
   "metadata": {},
   "source": [
    "# PID control\n",
    "---\n",
    "In a PID controller the control action is generated as a sum of three terms. The control law is thus described as:\n",
    "\n",
    "$$\n",
    "u(t) = u_P(t) + u_I(t) + u_D(t)\n",
    "$$\n",
    "\n",
    "Where, $u_P(t)$ is the propotional part, $u_I(t)$ is the integral part, $u_D(t)$ is the derivative part.\n",
    "\n",
    "### Proportional Control\n",
    "The proportional control is a simple feedback\n",
    "\n",
    "$$\n",
    "u_P(t) = Ke(t)\n",
    "$$\n",
    "\n",
    "Where, $e$ is control error, and $K$ is the control gain. The error is defined as the between the set point $y_{sp}$ and the process output $y$,\n",
    "\n",
    "$$\n",
    "e(t) = y_{sp}(t) - y(t)\n",
    "$$\n",
    "\n",
    "\n",
    "### Integral Control\n",
    "Proportional control normally gives a system that has a steady-state error. Integral action is introduced to remove this. Integral action has the form\n",
    "\n",
    "$$\n",
    "u_I(t) = k_i\\int^t e(s)ds = \\frac{K}{T_i}\\int^te(s)ds\n",
    "$$\n",
    "\n",
    "Where, $T_i$ is the integral time constant.\n",
    "\n",
    "\n",
    "### Derivative Control\n",
    "Derivative control is used to provide anticipative action. A simple form is \n",
    "\n",
    "$$\n",
    "u_D(t) = k_d\\frac{de(t)}{dt} = KT_d\\frac{de(t)}{dt}\n",
    "$$\n",
    "\n",
    "Where, $T_d$ is the derivative time constant.\n",
    "\n",
    "\n",
    "## The control law\n",
    "---\n",
    "Therefore, the PID control law is described as\n",
    "\n",
    "$$\n",
    "u(t) = K_pe(t) + k_i\\int^t e(s)ds + k_d\\frac{de(t)}{dt} = Ke(t) + \\frac{K}{T_i}\\int^te(s)ds + KT_d\\frac{de(t)}{dt}\n",
    "$$\n",
    "\n",
    "Also, the block diagram has the form:\n",
    "\n",
    "<img src=\"figures/PID.png\" hight=\"170\">\n",
    "\n",
    "The transfer function of the PID controller has the form\n",
    "\n",
    "$$\n",
    "C(s) = \\frac{U(s)}{E(s)} = K \\left( 1 + \\frac{1}{T_is} + T_ds \\right) = K\\frac{T_iT_ds^2+T_is+1}{T_is}\n",
    "$$"
   ]
  },
  {
   "cell_type": "markdown",
   "metadata": {},
   "source": [
    "# Simulation (Using transfer function)"
   ]
  },
  {
   "cell_type": "code",
   "execution_count": 1,
   "metadata": {},
   "outputs": [],
   "source": [
    "from scipy import signal\n",
    "import sympy as sy\n",
    "import numpy as np\n",
    "import matplotlib.pyplot as plt\n",
    "from ipywidgets import interactive\n",
    "from IPython.display import display\n",
    "%matplotlib inline"
   ]
  },
  {
   "cell_type": "code",
   "execution_count": 2,
   "metadata": {},
   "outputs": [],
   "source": [
    "def PID_controller(K,T_i,T_d):\n",
    "    num = [K*T_i*T_d, K*T_i, K] \n",
    "    den = [T_i, 0] \n",
    "    return signal.lti(num, den)"
   ]
  },
  {
   "cell_type": "markdown",
   "metadata": {},
   "source": [
    "Scipy does not supply the functionality for multiplying transfer functions. An alternative is converting the LTI system into a Sympy rational function."
   ]
  },
  {
   "cell_type": "code",
   "execution_count": 3,
   "metadata": {},
   "outputs": [],
   "source": [
    "def lti_to_sympy(lsys, symplify=True):\n",
    "    \"\"\" Convert Scipy's LTI instance to Sympy expression \"\"\"\n",
    "    s = sy.Symbol('s')\n",
    "    G = sy.Poly(lsys.num, s) / sy.Poly(lsys.den, s)\n",
    "    return sy.simplify(G) if symplify else G\n",
    "\n",
    "def sympy_to_lti(xpr, s=sy.Symbol('s')):\n",
    "    \"\"\" Convert Sympy transfer function polynomial to Scipy LTI \"\"\"\n",
    "    num, den = sy.simplify(xpr).as_numer_denom()  # expressions\n",
    "    p_num_den = sy.poly(num, s), sy.poly(den, s)  # polynomials\n",
    "    c_num_den = [sy.expand(p).all_coeffs() for p in p_num_den]  # coefficients\n",
    "    l_num, l_den = [sy.lambdify((), c)() for c in c_num_den]  # convert to floats\n",
    "    return signal.lti(l_num, l_den)"
   ]
  },
  {
   "cell_type": "markdown",
   "metadata": {},
   "source": [
    "## Example (Mass-Spring-Damper system)\n",
    "<img src=\"figures/MSD_system.png\" hight=\"150\">\n",
    "We try to control a simple second order system, Mass-Spring-Damper system using PID control.\n",
    "The transfer function of this system is given by: (see Control Tutorial_2)\n",
    "\n",
    "$$\n",
    "G(s) = \\frac{Y(s)}{X(s)} = \\frac{1}{ms^2+cs+k} = \\frac{\\frac{1}{m}}{s^2+\\frac{c}{m}s+\\frac{k}{m}}\n",
    "$$\n",
    "\n",
    "In addition, the transfer function of the closed-loop $H(s)$ is given by:\n",
    "\n",
    "$$\n",
    "H(s)=\\frac{C(s)G(s)}{1+C(s)G(s)}\n",
    "$$\n",
    "\n",
    "The typical parameters of Mass-Spring-Damper system setup are selected as following:  \n",
    "Mass of the cart:  $m  = 1$ [kg]  \n",
    "The spring constant: $k = 1$ [N/m]  \n",
    "The damping constant: $c = 1$ [N/(m/s)]\n",
    "\n",
    "We set the step function as a set point $y_{sp}$. "
   ]
  },
  {
   "cell_type": "code",
   "execution_count": 4,
   "metadata": {},
   "outputs": [],
   "source": [
    "def MSD_plant(m=1,k=1,c=1):\n",
    "    num = [1/m] \n",
    "    den = [1, c/m, k/m] \n",
    "    return signal.lti(num, den)"
   ]
  },
  {
   "cell_type": "code",
   "execution_count": 5,
   "metadata": {},
   "outputs": [
    {
     "data": {
      "application/vnd.jupyter.widget-view+json": {
       "model_id": "09283c027e4544b2b25ba31ef2838256",
       "version_major": 2,
       "version_minor": 0
      },
      "text/plain": [
       "interactive(children=(FloatSlider(value=10.0, description='K', max=20.0, step=0.5), FloatSlider(value=1.0, des…"
      ]
     },
     "metadata": {},
     "output_type": "display_data"
    }
   ],
   "source": [
    "def PID_plot(K=10,T_i=1.0,T_d=1.0):\n",
    "    \n",
    "    # Multiply transfer function\n",
    "    C = PID_controller(K,T_i,T_d)\n",
    "    G = MSD_plant()\n",
    "    Cs, Gs = lti_to_sympy(C), lti_to_sympy(G)\n",
    "    Hs = sy.simplify(Cs*Gs / (1+Cs*Gs)).expand()\n",
    "    H = sympy_to_lti(Hs)\n",
    "    \n",
    "    # Reference value is Step function\n",
    "    horizon = np.linspace(0, 12, 100)\n",
    "    t, y = signal.step(H, T=horizon)\n",
    "    t, y2 = signal.step(G, T=horizon)\n",
    "    plt.axhline(y=1,color=\"k\")\n",
    "    plt.plot(t,y,\"r\" ,label=\"PID controller\")\n",
    "    plt.plot(t,y2, label=\"Step response without PID\")\n",
    "    plt.title(\"PID control of the Mass-Spring-Damper system $y_{sp}=1.0(t>0)$\")\n",
    "    plt.ylabel(\"y(t)\")\n",
    "    plt.xlabel(\"Time (sec)\")\n",
    "    plt.xlim(0, 12)\n",
    "    plt.ylim(0, 1.4)\n",
    "    plt.grid(True)\n",
    "    plt.legend()\n",
    "    plt.show()\n",
    "    \n",
    "interactive_plot = interactive(PID_plot, K=(0 , 20 , 0.5) , T_i=(0.1, 10, 0.1), T_d=(0.0, 1.5, 0.1))\n",
    "output = interactive_plot.children[-1]\n",
    "output.layout.width = '600px'\n",
    "interactive_plot"
   ]
  },
  {
   "cell_type": "markdown",
   "metadata": {},
   "source": [
    "### When $K$ is increased, \n",
    "Advantage\n",
    "- Minimize rise time\n",
    "\n",
    "Disadvantage\n",
    "- More likely to generate overshoot\n",
    "- Lengthen the setting time\n",
    "\n",
    "### When $K$ is decreased, \n",
    "Advantage\n",
    "- Minimize overshoot\n",
    "\n",
    "Disadvantage\n",
    "- Lengthen the setting time\n",
    "- Increase offset\n",
    "\n",
    "### When $T_i$ is increased, \n",
    "Advantage\n",
    "- Minimize overshoot and hunting\n",
    "\n",
    "Disadvantage\n",
    "- Lengthen rise time\n",
    "\n",
    "### When $T_i$ is decreased, \n",
    "Advantage\n",
    "- Minimize rise time\n",
    "\n",
    "Disadvantage\n",
    "- More likely to generate hunting, overshoot, and undershoot.\n",
    "- Lengthen the setting time\n",
    "\n",
    "### When $T_d$ is increased, \n",
    "Advantage\n",
    "- Minimize overshoot\n",
    "\n",
    "Disadvantage\n",
    "- More likely to generate hunting\n",
    "\n",
    "### When $T_d$ is decreased, \n",
    "Advantage\n",
    "- Provide responsiveness for the disturbances\n",
    "\n",
    "Disadvantage\n",
    "- More likely to be affected by the disturbances"
   ]
  },
  {
   "cell_type": "code",
   "execution_count": null,
   "metadata": {},
   "outputs": [],
   "source": []
  }
 ],
 "metadata": {
  "kernelspec": {
   "display_name": "Python 3",
   "language": "python",
   "name": "python3"
  },
  "language_info": {
   "codemirror_mode": {
    "name": "ipython",
    "version": 3
   },
   "file_extension": ".py",
   "mimetype": "text/x-python",
   "name": "python",
   "nbconvert_exporter": "python",
   "pygments_lexer": "ipython3",
   "version": "3.5.2"
  }
 },
 "nbformat": 4,
 "nbformat_minor": 2
}
