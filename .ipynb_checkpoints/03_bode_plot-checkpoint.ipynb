{
 "cells": [
  {
   "cell_type": "markdown",
   "metadata": {},
   "source": [
    "# Control Tutorial_3\n",
    "_Reference : The Control Handbook, Control System Fundamentals, Edited by William S.Levine from p9-26 to p9-35_"
   ]
  },
  {
   "cell_type": "markdown",
   "metadata": {},
   "source": [
    "# Frequency Responses (Bode Plot)\n",
    "---\n",
    "\n",
    "The frequency-response method of analysis and design is a powerful technique for the comprehensive study of a system by conventional methods.  \n",
    "\n",
    "The frequency domain plots belong to two categories.\n",
    "- The plot of the magnitude of the output-input [dB] vs. frequency(Logarithmic Plot).\n",
    "- The plot of the corresponding phase angle [deg] vs. frequency(Logarithmic Plot).\n",
    "\n",
    "For given sinusoidal input signal, the input and steady-state output are of the following forms:\n",
    "\n",
    "$$\n",
    "r(t) = R \\sin \\omega t \\\\\n",
    "c(t) = C \\sin (\\omega t + \\alpha)\n",
    "$$\n",
    "\n",
    "The frequency response is given by:\n",
    "\n",
    "$$\n",
    "\\frac{C(j\\omega)}{R(j\\omega)} = G(j\\omega) = M(\\omega)\\angle [\\alpha(\\omega)]\n",
    "$$\n",
    "\n",
    "Where, $G(j\\omega)$ is the transfer function of the system, $\\omega$ is frequency, $j$ is imaginary unit, $M$ is the magnitude and $\\alpha$ is the angle between $r(t)$ and $c(t)$\n",
    "\n",
    "If the transfer function is represented as,\n",
    "\n",
    "$$\n",
    "G(s) = G_1(s) \\cdot G_2(s) \\cdots G_n(s) \\\\\n",
    "$$\n",
    "\n",
    "the magnitude and the phase angle are obtained by:\n",
    "\n",
    "$$\n",
    "   \\left\\{ \\begin{array}{ll}\n",
    "    M(\\omega) &=& |G(j\\omega)| &=& |G_1(j\\omega)| + |G_2(j\\omega)| + \\cdots + G_n(j\\omega)  \\\\\n",
    "    \\angle [\\alpha(\\omega)] &=& \\angle G(j\\omega) &=& \\angle G_1(j\\omega) + \\angle G_2(j\\omega) + \\cdots + G_n(j\\omega)\n",
    "  \\end{array} \\right.\n",
    "$$\n",
    "\n",
    "The logarithm of the magnitude of the transfer function $G(j\\omega)$ expressed in decibels is\n",
    "\n",
    "$$\n",
    "20 \\log |G(j\\omega)| = 20 \\log_{10}(|G_1(j\\omega)|) + 20 \\log_{10}(|G_2(j\\omega)|) + \\cdots + 20 \\log_{10}(|G_n(j\\omega)|) \\rm{[dB]}\n",
    "$$\n",
    "\n"
   ]
  },
  {
   "cell_type": "markdown",
   "metadata": {},
   "source": [
    "# Simulation"
   ]
  },
  {
   "cell_type": "code",
   "execution_count": 1,
   "metadata": {},
   "outputs": [],
   "source": [
    "from scipy import signal\n",
    "import numpy as np\n",
    "import matplotlib.pyplot as plt\n",
    "from ipywidgets import interactive\n",
    "%matplotlib inline"
   ]
  },
  {
   "cell_type": "markdown",
   "metadata": {},
   "source": [
    "## Example 1 (First order systems)\n",
    "Standard transfer function of first order system is given by:\n",
    "\n",
    "$$\n",
    "G_1(s) = \\frac{K}{Ts+1}\n",
    "$$\n",
    "\n",
    "We replace $s$ by $j\\omega$, here $\\omega$ is frequency $j$ is imaginary unit.\n",
    "\n",
    "$$\n",
    "G_1(j\\omega) = \\frac{K}{T(j\\omega)+1}\n",
    "$$\n",
    "\n",
    "The magnitude of the output-input [dB] is given as:\n",
    "\n",
    "$$\n",
    "|G_1(j\\omega)|=20 \\log_{10} \\left| \\frac{K}{1+j\\omega T}\\right| = 20 \\log_{10}K +20 \\log_{10} \\left| \\frac{1}{1+j\\omega T}\\right| = 20 \\log_{10}K + 20 \\log_{10}\\frac{1}{\\sqrt{1+(\\omega T)^2}} \\, \\rm{[dB]}\n",
    "$$\n",
    "\n",
    "The phase angle [deg] is given as:\n",
    "\n",
    "$$\n",
    "\\angle G_1(j\\omega) = \\angle \\frac{K}{1+j\\omega T}  = \\angle K + \\angle \\frac{1}{1+j\\omega T} = \\angle \\frac{1}{1+j\\omega T} \\, \\rm{[deg]}\n",
    "$$"
   ]
  },
  {
   "cell_type": "code",
   "execution_count": 2,
   "metadata": {},
   "outputs": [],
   "source": [
    "def First_sys(K,T):\n",
    "    num = [K] \n",
    "    den = [T, 1] \n",
    "    return signal.lti(num, den)"
   ]
  },
  {
   "cell_type": "markdown",
   "metadata": {},
   "source": [
    "The method `scipy.signal.bode` caluculate the Bode magnitude and phase data of a continuous-time system.  \n",
    "More information: https://docs.scipy.org/doc/scipy/reference/generated/scipy.signal.bode.html"
   ]
  },
  {
   "cell_type": "code",
   "execution_count": 3,
   "metadata": {},
   "outputs": [
    {
     "data": {
      "application/vnd.jupyter.widget-view+json": {
       "model_id": "7b3c54d05c4647ab9023f5dfd3b53dc6",
       "version_major": 2,
       "version_minor": 0
      },
      "text/plain": [
       "interactive(children=(FloatSlider(value=1.0, description='K', max=10.0, min=0.1), FloatSlider(value=1.0, descr…"
      ]
     },
     "metadata": {},
     "output_type": "display_data"
    }
   ],
   "source": [
    "def First_bode(K=1,T=1):\n",
    "    G = First_sys(K,T)\n",
    "    horizon = np.linspace(0.01, 100, 10000)\n",
    "    w, mag, phase = signal.bode(G, w=horizon)\n",
    "    \n",
    "    plt.subplots(2, 1, figsize=(10, 8))\n",
    "    plt.suptitle(\"Bode Plot of the First order system\", fontsize=18)\n",
    "    #The magnitude\n",
    "    plt.subplot(2, 1, 1)\n",
    "    plt.title(\"The magnitude\", fontsize=12)\n",
    "    plt.semilogx(w, mag)\n",
    "    plt.ylabel(\"Gain[dB]\")\n",
    "    plt.xlim(0.01, 100)\n",
    "    plt.ylim(-60, 30)\n",
    "    plt.grid()\n",
    "    #The phase angle\n",
    "    plt.subplot(2, 1, 2)\n",
    "    plt.title(\"The phase angle\", fontsize=12)\n",
    "    plt.semilogx(w, phase)\n",
    "    plt.xlabel(\"w[rad/sec]\")\n",
    "    plt.ylabel(\"Phase[deg]\")\n",
    "    plt.xlim(0.01, 100)\n",
    "    plt.ylim(-90, 0)\n",
    "    plt.grid()\n",
    "    plt.show()\n",
    "\n",
    "interactive_plot = interactive(First_bode, K=(0.1 , 10 ,0.1) ,T=(0.1, 10, 0.1))\n",
    "output = interactive_plot.children[-1]\n",
    "output.layout.width = '600px'\n",
    "interactive_plot"
   ]
  },
  {
   "cell_type": "markdown",
   "metadata": {},
   "source": [
    "For a first order system, the characteristics are as follows:\n",
    "- The slope at low frequency is zero, and the slope at high frequency is $-20 [\\rm{dB}] /decade$.\n",
    "- The magnitude at low frequencies is $20 \\log K$"
   ]
  },
  {
   "cell_type": "markdown",
   "metadata": {},
   "source": [
    "## Example 2 (Second order systems)\n",
    "Standard transfer function of second order systems is given by:\n",
    "\n",
    "$$\n",
    "G_2(s) = K\\frac{\\omega_n^2}{s^2+2\\zeta \\omega_ns+\\omega_n^2}\n",
    "$$\n",
    "\n",
    "We replace $s$ by $j\\omega$, here $\\omega$ is frequency $j$ is imaginary unit.\n",
    "\n",
    "$$\n",
    "G_2(j\\omega) = \\frac{K\\omega_n^2}{(j\\omega)^2+2\\zeta \\omega_n(j\\omega)+\\omega_n^2} =\\frac{K}{ 1-\\left( \\frac{\\omega}{\\omega_n} \\right)^2 +2j\\zeta\\frac{\\omega}{\\omega_n}}\n",
    "$$\n",
    "\n",
    "The magnitude of the output-input [dB] is given as:\n",
    "\n",
    "$$\n",
    "|G_2(j\\omega)|=20 \\log_{10} \\left| \\frac{K}{ 1-\\left( \\frac{\\omega}{\\omega_n} \\right)^2 +2j\\zeta\\frac{\\omega}{\\omega_n}}\\right| = 20 \\log_{10}K +20 \\log_{10} \\left| \\frac{1}{ 1-\\left( \\frac{\\omega}{\\omega_n} \\right)^2 +2j\\zeta\\frac{\\omega}{\\omega_n}}\\right| = 20 \\log_{10}K + 20 \\log_{10}\\frac{1}{\\sqrt{\\left( 1-\\left( \\frac{\\omega}{\\omega_n} \\right)^2 \\right)^2 + \\left( 2\\zeta \\frac{\\omega}{\\omega_n}\\right)^2}} \\, \\rm{[dB]}\n",
    "$$\n",
    "\n",
    "The phase angle [deg] is given as:\n",
    "\n",
    "$$\n",
    "\\angle G_2(j\\omega) = -\\tan^{-1}\\left( \\frac{2\\zeta \\left( \\frac{\\omega}{\\omega_n}\\right)}{1-\\left( \\frac{\\omega}{\\omega_n} \\right)^2}\\right)\n",
    "$$"
   ]
  },
  {
   "cell_type": "code",
   "execution_count": 4,
   "metadata": {},
   "outputs": [],
   "source": [
    "def Second_sys(K,a,b):\n",
    "    num = [K*a*a] \n",
    "    den = [1, 2*a*b, a*a] \n",
    "    return signal.lti(num, den)"
   ]
  },
  {
   "cell_type": "code",
   "execution_count": 5,
   "metadata": {},
   "outputs": [
    {
     "data": {
      "application/vnd.jupyter.widget-view+json": {
       "model_id": "9e8f7c2f46cf4a0e9368a5f1e8b27f6c",
       "version_major": 2,
       "version_minor": 0
      },
      "text/plain": [
       "interactive(children=(FloatSlider(value=1.0, description='K', max=10.0, min=0.1), FloatSlider(value=1.0, descr…"
      ]
     },
     "metadata": {},
     "output_type": "display_data"
    }
   ],
   "source": [
    "def Second_bode(K=1,omega_n=1,zeta=0.3):\n",
    "    G = Second_sys(K,omega_n,zeta)\n",
    "    horizon = np.linspace(0.01, 100, 10000)\n",
    "    w, mag, phase = signal.bode(G, w=horizon)\n",
    "    \n",
    "    plt.subplots(2, 1, figsize=(10, 8))\n",
    "    plt.suptitle(\"Bode Plot of the Second order system\", fontsize=18)\n",
    "    #The magnitude\n",
    "    plt.subplot(2, 1, 1)\n",
    "    plt.title(\"The magnitude\", fontsize=12)\n",
    "    plt.semilogx(w, mag)\n",
    "    plt.ylabel(\"Gain[dB]\")\n",
    "    plt.xlim(0.01, 100)\n",
    "    plt.ylim(-120, 40)\n",
    "    plt.grid()\n",
    "    #The phase angle\n",
    "    plt.subplot(2, 1, 2)\n",
    "    plt.title(\"The phase angle\", fontsize=12)\n",
    "    plt.semilogx(w, phase)\n",
    "    plt.xlabel(\"w[rad/sec]\")\n",
    "    plt.ylabel(\"Phase[deg]\")\n",
    "    plt.xlim(0.01, 100)\n",
    "    plt.ylim(-180, 0)\n",
    "    plt.grid()\n",
    "    plt.show()\n",
    "\n",
    "interactive_plot = interactive(Second_bode, K=(0.1 , 10 ,0.1) , omega_n=(0.1, 5, 0.1), zeta=(0.01, 1.5, 0.01))\n",
    "output = interactive_plot.children[-1]\n",
    "output.layout.width = '600px'\n",
    "interactive_plot"
   ]
  },
  {
   "cell_type": "markdown",
   "metadata": {},
   "source": [
    "For a second order system, the characteristics are as follows:\n",
    "- At low frequencies, the magnitude is $20 \\log K$, and the phase is almost zero.\n",
    "- At high frequencies, the slope of the magnitude is $-40 [\\rm{dB}] /decade$, and the phase is almost $-180[\\rm{deg}]$."
   ]
  },
  {
   "cell_type": "code",
   "execution_count": null,
   "metadata": {},
   "outputs": [],
   "source": []
  }
 ],
 "metadata": {
  "kernelspec": {
   "display_name": "Python 3",
   "language": "python",
   "name": "python3"
  },
  "language_info": {
   "codemirror_mode": {
    "name": "ipython",
    "version": 3
   },
   "file_extension": ".py",
   "mimetype": "text/x-python",
   "name": "python",
   "nbconvert_exporter": "python",
   "pygments_lexer": "ipython3",
   "version": "3.5.2"
  }
 },
 "nbformat": 4,
 "nbformat_minor": 2
}
