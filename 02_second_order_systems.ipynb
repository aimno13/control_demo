{
 "cells": [
  {
   "cell_type": "markdown",
   "metadata": {},
   "source": [
    "# Control Tutorial_2\n",
    "_Reference :_ [Electrical installation & energy efficiency\n",
    "Electrical engineering Community](http://engineering.electrical-equipment.org/panel-building/introduction-to-second-order-systems.html), [Control Theory Pro](http://wikis.controltheorypro.com/Second_Order_Systems)"
   ]
  },
  {
   "cell_type": "markdown",
   "metadata": {},
   "source": [
    "# Second order systems\n",
    "---\n",
    "Standard transfer function of second order systems is given by:\n",
    "\n",
    "$$\n",
    "G(s) = \\frac{Y(s)}{X(s)} = K\\frac{\\omega_n^2}{s^2+2\\zeta \\omega_ns+\\omega_n^2}\n",
    "$$\n",
    "\n",
    "Where, $K$ is the system gain, $\\omega_n$ is the natural frequancy, $\\zeta$ is the damping ratio for the second order system.\n",
    "\n",
    "If $0<\\zeta<1$, system is named as Damped System.  \n",
    "If $\\zeta=1$, system is named as Critically Damped System.  \n",
    "If $1<\\zeta$, system is named as Over Damped System.  "
   ]
  },
  {
   "cell_type": "markdown",
   "metadata": {},
   "source": [
    "### Example 1 for second order systems (RLC Circuit)\n",
    "\n",
    "<img src=\"figures/RLC.png\" hight=\"150\">\n",
    "\n",
    "Where, $R$ is the resistance of the resistor, $L$ is the inductance of the inductor, $C$ is the capacitance of the capacitor, $x(t) \\rm{[V]}$ is Input, $y(t)\\rm{[V]}$ is Output, and $i(t)\\rm{[A]}$ is the electric current at $t$.  \n",
    "The relationship between $i(t)$ and $y(t)$ is given by:\n",
    "\n",
    "$$\n",
    "i(t) = C\\dot{y}(t)\n",
    "$$\n",
    "\n",
    "Also, the relationship among $R$, the electric current $i(t)$ and input $x(t)$ is given by:\n",
    "\n",
    "$$\n",
    "x(t) = Ri(t) + L\\dot{i}(t) + y(t)\n",
    "$$\n",
    "\n",
    "Therefore this system is represented as below differential equation\n",
    "\n",
    "$$\n",
    "CL\\ddot{y}(t) + CR\\dot{y}(t) + y(t) = x(t)\n",
    "$$\n",
    "\n",
    "Laplace transformed equation is written as\n",
    "\n",
    "$$\n",
    "CL\\{s^2Y(s)-sy(0)-\\dot{y}(0)\\} + CR\\{sY(s)-y(0)\\} + Y(s) = X(s)\n",
    "$$\n",
    "\n",
    "We regard  $y(0)$ and $\\dot{y}(0)$  as zero when we consider transfer function. So, the transfer function of the RLC circuit is given as:\n",
    "\n",
    "$$\n",
    "G(s) = \\frac{Y(s)}{X(s)} = \\frac{1}{CLs^2+CRs+1} = \\frac{\\frac{1}{CL}}{s^2+\\frac{R}{L}s+\\frac{1}{CL}}\n",
    "$$\n",
    "\n",
    "In this case, $K=1$, $\\omega_n = \\sqrt{\\frac{1}{CL}}$, $\\zeta = \\frac{R}{2}\\sqrt{\\frac{C}{L}}$"
   ]
  },
  {
   "cell_type": "markdown",
   "metadata": {},
   "source": [
    "### Example 2 for second order systems (Mass-Spring-Damper System)\n",
    "\n",
    "<img src=\"figures/MSD_system.png\" hight=\"150\">\n",
    "\n"
   ]
  },
  {
   "cell_type": "markdown",
   "metadata": {},
   "source": [
    "Where, $k$ is the spring constant, $c$ is the damping constant, $m$ is the mass, the force $x(t) \\rm{[kg\\cdot m/s^2]}$ is Input, the position of the mass $y(t)\\rm{[m]}$ is Output.\n",
    "The equation of motion of this system is given by:\n",
    "\n",
    "$$\n",
    "m\\ddot{y}(t) + c\\dot{y}(t) + ky(t) = x(t)\n",
    "$$\n",
    "\n",
    "Laplase transformed equation is written as\n",
    "\n",
    "$$\n",
    "m\\{s^2Y(s)-sy(0)-\\dot{y}(0)\\} + c\\{sY(s)-y(0)\\}+kY(s) = X(s)\n",
    "$$\n",
    "\n",
    "We regard  $y(0)$ and $\\dot{y}(0)$  as zero when we consider transfer function. So, the transfer function of the Mass-Spring-Damper system is given as:\n",
    "\n",
    "$$\n",
    "G(s) = \\frac{Y(s)}{X(s)} = \\frac{1}{ms^2+cs+k} = \\frac{\\frac{1}{m}}{s^2+\\frac{c}{m}s+\\frac{k}{m}}\n",
    "$$\n",
    "\n",
    "In this case, $K=\\frac{1}{k}$, $\\omega_n = \\sqrt{\\frac{k}{m}}$, $\\zeta = \\frac{c}{2\\sqrt{mk}}$"
   ]
  },
  {
   "cell_type": "markdown",
   "metadata": {},
   "source": [
    "# Simulation"
   ]
  },
  {
   "cell_type": "code",
   "execution_count": 1,
   "metadata": {},
   "outputs": [],
   "source": [
    "from scipy import signal\n",
    "import numpy as np\n",
    "from matplotlib import pyplot as plt\n",
    "from ipywidgets import interactive\n",
    "%matplotlib inline"
   ]
  },
  {
   "cell_type": "markdown",
   "metadata": {},
   "source": [
    "We can declare the continuous-time linear time invariant system using \"`scipy.signal.lti`\" method."
   ]
  },
  {
   "cell_type": "code",
   "execution_count": 2,
   "metadata": {},
   "outputs": [],
   "source": [
    "def Second_sys(K,a,b):\n",
    "    num = [K*a*a] \n",
    "    den = [1, 2*a*b, a*a] \n",
    "    return signal.lti(num, den)"
   ]
  },
  {
   "cell_type": "markdown",
   "metadata": {},
   "source": [
    "### 1. Impulse response\n",
    "\n",
    "The unit impulse input is given by:\n",
    "\n",
    "$$\n",
    "  x(t) = \\delta(t) = \\left\\{ \\begin{array}{ll}\n",
    "    \\infty & (t=0) \\\\\n",
    "    0 & (otherwise)\n",
    "  \\end{array} \\right.\n",
    "$$\n",
    "\n",
    "For Laplace transform, the Transfer function of input is $X(s)=1$.\n",
    "Therefore the transfer function of the unit impulse response is:\n",
    "\n",
    "$$\n",
    "Y(s) = K\\frac{\\omega_n^2}{s^2+2\\zeta \\omega_ns+\\omega_n^2}\n",
    "$$\n",
    "\n",
    "By taking the inverse Laplace transform, we get the unit impulse response of the system.\n",
    "\n",
    "- If $0<\\zeta<1$ (Damped System),\n",
    "\n",
    "$$\n",
    "Y(s) = K\\frac{\\omega_n^2}{s^2+2\\zeta \\omega_n s+\\omega_n^2} =  K\\frac{\\omega_n^2}{s^2+2\\zeta \\omega_n s+(\\zeta\\omega_n)^2+\\omega_n^2-(\\zeta\\omega_n)^2} = \\frac{(\\sqrt{1-\\zeta^2}\\cdot \\omega_n)}{(s+\\zeta\\omega_n)^2 + (\\sqrt{1-\\zeta^2}\\cdot \\omega_n)^2}\\cdot \\frac{K\\omega_n}{\\sqrt{1-\\zeta^2}}\n",
    "$$\n",
    "\n",
    "$$\n",
    "y(t) = \\mathcal{L}^{-1}　\\left[ \\frac{K\\omega_n}{\\sqrt{1-\\zeta^2}} \\cdot \\frac{(\\sqrt{1-\\zeta^2}\\cdot \\omega_n)}{(s+\\zeta\\omega_n)^2 + (\\sqrt{1-\\zeta^2}\\cdot \\omega_n)^2} \\right] = \\frac{K\\omega_n}{\\sqrt{1-\\zeta^2}}e^{-\\zeta\\omega_nt}\\sin(\\sqrt{1-\\zeta^2}\\omega_nt)\n",
    "$$\n",
    "\n",
    "- If $\\zeta=1$ (Critically Damped System),\n",
    "\n",
    "$$\n",
    "Y(s) = K\\frac{\\omega_n^2}{s^2+2\\zeta \\omega_n s+\\omega_n^2} = K\\frac{\\omega_n^2}{(s+\\omega_n)^2}\n",
    "$$\n",
    "\n",
    "$$\n",
    "y(t) = \\mathcal{L}^{-1} \\left[ K\\frac{\\omega_n^2}{(s+\\omega_n)^2} \\right] = K\\omega_n^2te^{-\\omega_nt}\n",
    "$$\n",
    "\n",
    "- If $1<\\zeta$ (Over Damped System),\n",
    "\n",
    "$$\n",
    "Y(s) = K\\frac{\\omega_n^2}{s^2+2\\zeta \\omega_n s+\\omega_n^2} =  K\\frac{\\omega_n^2}{s^2+2\\zeta \\omega_n s+(\\zeta\\omega_n)^2+\\omega_n^2-(\\zeta\\omega_n)^2} = \\frac{(\\sqrt{\\zeta^2-1}\\cdot \\omega_n)}{(s+\\zeta\\omega_n)^2 + (\\sqrt{\\zeta^2-1}\\cdot \\omega_n)^2}\\cdot \\frac{K\\omega_n}{\\sqrt{\\zeta^2-1}}\n",
    "$$\n",
    "\n",
    "$$\n",
    "y(t) = \\mathcal{L}^{-1}　\\left[ \\frac{K\\omega_n}{\\sqrt{\\zeta^2-1}} \\cdot \\frac{(\\sqrt{\\zeta^2-1}\\cdot \\omega_n)}{(s+\\zeta\\omega_n)^2 + (\\sqrt{\\zeta^2-1}\\cdot \\omega_n)^2} \\right] = \\frac{K\\omega_n}{\\sqrt{\\zeta^2-1}}e^{-\\zeta\\omega_nt}\\sinh(\\sqrt{\\zeta^2-1}\\omega_nt)\n",
    "$$"
   ]
  },
  {
   "cell_type": "markdown",
   "metadata": {},
   "source": [
    "We can simulate the impulse response of the system in Python using \"`scipy.signal.impulse`\" method.  \n",
    "More information: https://docs.scipy.org/doc/scipy/reference/generated/scipy.signal.impulse.html#scipy.signal.impulse"
   ]
  },
  {
   "cell_type": "code",
   "execution_count": 3,
   "metadata": {},
   "outputs": [
    {
     "data": {
      "application/vnd.jupyter.widget-view+json": {
       "model_id": "730a8121b05248df8245fbb257ca6c47",
       "version_major": 2,
       "version_minor": 0
      },
      "text/plain": [
       "interactive(children=(FloatSlider(value=1.0, description='K', max=2.0, min=0.1), FloatSlider(value=3.0, descri…"
      ]
     },
     "metadata": {},
     "output_type": "display_data"
    }
   ],
   "source": [
    "def Second_Impulse(K = 1.0, omega_n = 3.0, zeta = 0.3):\n",
    "    G = Second_sys(K,omega_n,zeta)\n",
    "    horizon = np.linspace(0, 10, 100)\n",
    "    t, y = signal.impulse(G, T=horizon)\n",
    "    plt.plot(t,y)\n",
    "    plt.title(\"Unit-Impulse Response of the Second-order system\")\n",
    "    plt.ylabel(\"y(t)\")\n",
    "    plt.xlabel(\"Time (sec)\")\n",
    "    plt.xlim(0, 10)\n",
    "    plt.ylim(-2, 2.5)\n",
    "    plt.grid(True)\n",
    "    plt.show()\n",
    "\n",
    "interactive_plot = interactive(Second_Impulse, K=(0.1 , 2 ,0.1) , omega_n=(0.1, 5, 0.1), zeta=(0, 1.5, 0.1))\n",
    "output = interactive_plot.children[-1]\n",
    "output.layout.width = '600px'\n",
    "interactive_plot"
   ]
  },
  {
   "cell_type": "markdown",
   "metadata": {},
   "source": [
    "### 2. Step response\n",
    "\n",
    "The transfer function of the unit step input is given by:\n",
    "\n",
    "$$\n",
    "X(s) = \\frac{1}{s}\n",
    "$$\n",
    "\n",
    "Therefore the transfer function of the unit step response is:\n",
    "\n",
    "$$\n",
    "Y(s) = \\frac{1}{s}\\cdot K\\frac{\\omega_n^2}{s^2+2\\zeta \\omega_ns+\\omega_n^2} = K \\left\\{ \\frac{1}{s}-\\frac{s+\\zeta\\omega_n}{s^2+2\\zeta \\omega_ns+\\omega_n^2}-\\frac{\\zeta\\omega_n}{s^2+2\\zeta \\omega_n s+\\omega_n^2} \\right\\}\n",
    "$$\n",
    "\n",
    "By taking inverse laplace transform, we get the unit step response of the system.\n",
    "\n",
    "- If $0<\\zeta<1$ (Damped System),\n",
    "\n",
    "$$\n",
    "x(t) = K \\left\\{ 1-\\frac{1}{\\sqrt{1-\\zeta^2}}e^{-\\zeta\\omega_nt} \\sin(\\sqrt{1-\\zeta^2}\\omega_nt + \\tan^{-1}\\frac{\\sqrt{1-\\zeta^2}}{\\zeta} \\right\\}\n",
    "$$\n",
    "\n",
    "- If $\\zeta=1$ (Critically Damped System),\n",
    "\n",
    "$$\n",
    "x(t) = K \\left\\{ 1-e^{\\omega_nt}(\\omega_nt+1) \\right\\}\n",
    "$$\n",
    "\n",
    "- If $1<\\zeta$ (Over Damped System),\n",
    "\n",
    "$$\n",
    "x(t) = K \\left\\{ 1-\\frac{e^{-\\zeta\\omega_nt}}{\\sqrt{\\zeta^2-1}} \\sinh(\\sqrt{\\zeta^2-1}\\omega_nt + \\tan^{-1}\\frac{\\sqrt{\\zeta^2-1}}{\\zeta} \\right\\}\n",
    "$$"
   ]
  },
  {
   "cell_type": "markdown",
   "metadata": {},
   "source": [
    "We can simulate the step response of the system in Python using \"`scipy.signal.step`\" method.  \n",
    "More information : https://docs.scipy.org/doc/scipy/reference/generated/scipy.signal.step.html"
   ]
  },
  {
   "cell_type": "code",
   "execution_count": 4,
   "metadata": {},
   "outputs": [
    {
     "data": {
      "application/vnd.jupyter.widget-view+json": {
       "model_id": "5ffba06d4d66490c89af53ac7296dccf",
       "version_major": 2,
       "version_minor": 0
      },
      "text/plain": [
       "interactive(children=(FloatSlider(value=1.0, description='K', max=2.0, min=0.1), FloatSlider(value=3.0, descri…"
      ]
     },
     "metadata": {},
     "output_type": "display_data"
    }
   ],
   "source": [
    "def Second_Step(K = 1.0, omega_n = 3.0, zeta = 0.3):\n",
    "    G = Second_sys(K,omega_n,zeta)\n",
    "    horizon = np.linspace(0, 10, 100)\n",
    "    t, y = signal.step(G, T=horizon)\n",
    "    plt.plot(t,y)\n",
    "    plt.title(\"Unit-Step Response of the Second-order system\")\n",
    "    plt.ylabel(\"y(t)\")\n",
    "    plt.xlabel(\"Time (sec)\")\n",
    "    plt.xlim(0, 10)\n",
    "    plt.ylim(0, 3)\n",
    "    plt.grid(True)\n",
    "    plt.show()\n",
    "\n",
    "interactive_plot = interactive(Second_Step, K=(0.1 , 2 ,0.1) , omega_n=(0.1, 5, 0.1), zeta=(0, 1.5, 0.1))\n",
    "output = interactive_plot.children[-1]\n",
    "output.layout.width = '600px'\n",
    "interactive_plot"
   ]
  },
  {
   "cell_type": "code",
   "execution_count": null,
   "metadata": {},
   "outputs": [],
   "source": []
  }
 ],
 "metadata": {
  "kernelspec": {
   "display_name": "Python 3",
   "language": "python",
   "name": "python3"
  },
  "language_info": {
   "codemirror_mode": {
    "name": "ipython",
    "version": 3
   },
   "file_extension": ".py",
   "mimetype": "text/x-python",
   "name": "python",
   "nbconvert_exporter": "python",
   "pygments_lexer": "ipython3",
   "version": "3.6.5"
  }
 },
 "nbformat": 4,
 "nbformat_minor": 2
}
