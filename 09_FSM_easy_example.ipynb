{
 "cells": [
  {
   "cell_type": "markdown",
   "metadata": {},
   "source": [
    "# Control Tutorial_9\n",
    "_Reference : The Control Handbook, Control System Fundamentals, Edited by William S.Levine from p5-83 to p5-85_, https://www.youtube.com/watch?v=E45v2dD3IQU"
   ]
  },
  {
   "cell_type": "markdown",
   "metadata": {},
   "source": [
    "# Finite State Machines\n",
    "---\n",
    "Finite State Machine (FSM) is strictly logical model where the system remains in each state for an unspecified amount of time and the transitions between states are triggered by events that occur instantaneously. It is often used to for artificial intelligences."
   ]
  },
  {
   "cell_type": "markdown",
   "metadata": {},
   "source": [
    "# Example\n",
    "## Light ON and OFF"
   ]
  },
  {
   "cell_type": "code",
   "execution_count": 1,
   "metadata": {},
   "outputs": [],
   "source": [
    "from numpy import random\n",
    "from time import clock"
   ]
  },
  {
   "cell_type": "code",
   "execution_count": 2,
   "metadata": {},
   "outputs": [],
   "source": [
    "State = type(\"State\",(object,),{})\n",
    "\n",
    "class LightOn(State):\n",
    "    def Execute(self):\n",
    "        print(\"Light is ON!\")\n",
    "        \n",
    "class LightOff(State):\n",
    "    def Execute(self):\n",
    "        print(\"Light is OFF!\")"
   ]
  },
  {
   "cell_type": "code",
   "execution_count": 3,
   "metadata": {},
   "outputs": [],
   "source": [
    "class Transition(object):\n",
    "    def __init__(self,toState):\n",
    "        self.toState = toState\n",
    "        \n",
    "    def Execute(self):\n",
    "        print(\"    Transitioning...\")"
   ]
  },
  {
   "cell_type": "code",
   "execution_count": 4,
   "metadata": {},
   "outputs": [],
   "source": [
    "class SimpleFSM(object):\n",
    "    def __init__(self,char):\n",
    "        self.char = char\n",
    "        self.states = {}\n",
    "        self.transitions = {}\n",
    "        self.curState = None\n",
    "        self.trans = None\n",
    "        \n",
    "    def SetState(self,stateName):\n",
    "        self.curState = self.states[stateName]\n",
    "        \n",
    "    def Transition(self,transName):\n",
    "        self.trans = self.transitions[transName]\n",
    "        \n",
    "    def Execute(self):\n",
    "        if self.trans:\n",
    "            self.trans.Execute()\n",
    "            self.SetState(self.trans.toState)\n",
    "            self.trans = None\n",
    "        self.curState.Execute()"
   ]
  },
  {
   "cell_type": "code",
   "execution_count": 5,
   "metadata": {},
   "outputs": [],
   "source": [
    "class Char(object):\n",
    "    def __init__(self):\n",
    "        self.FSM = SimpleFSM(self)\n",
    "        self.LightOn = True"
   ]
  },
  {
   "cell_type": "code",
   "execution_count": 6,
   "metadata": {},
   "outputs": [
    {
     "name": "stdout",
     "output_type": "stream",
     "text": [
      "Light is ON!\n",
      "    Transitioning...\n",
      "Light is OFF!\n",
      "Light is OFF!\n",
      "Light is OFF!\n",
      "    Transitioning...\n",
      "Light is ON!\n",
      "    Transitioning...\n",
      "Light is OFF!\n",
      "    Transitioning...\n",
      "Light is ON!\n",
      "    Transitioning...\n",
      "Light is OFF!\n",
      "    Transitioning...\n",
      "Light is ON!\n",
      "    Transitioning...\n",
      "Light is OFF!\n",
      "    Transitioning...\n",
      "Light is ON!\n",
      "    Transitioning...\n",
      "Light is OFF!\n",
      "    Transitioning...\n",
      "Light is ON!\n",
      "    Transitioning...\n",
      "Light is OFF!\n",
      "    Transitioning...\n",
      "Light is ON!\n",
      "Light is ON!\n",
      "Light is ON!\n",
      "    Transitioning...\n",
      "Light is OFF!\n",
      "    Transitioning...\n",
      "Light is ON!\n",
      "Light is ON!\n"
     ]
    }
   ],
   "source": [
    "light = Char()\n",
    "\n",
    "light.FSM.states[\"On\"] = LightOn()\n",
    "light.FSM.states[\"Off\"] = LightOff()\n",
    "light.FSM.transitions[\"toOn\"] = Transition(\"On\")\n",
    "light.FSM.transitions[\"toOff\"] = Transition(\"Off\")\n",
    "\n",
    "light.FSM.SetState(\"On\")\n",
    "\n",
    "for i in range(20):\n",
    "    startTime = clock()\n",
    "    timeInterval = 1\n",
    "    while (startTime + timeInterval) > clock():\n",
    "        pass\n",
    "    if random.randint(0,2):\n",
    "        if light.LightOn:\n",
    "            light.FSM.Transition(\"toOff\")\n",
    "            light.LightOn = False\n",
    "        else:\n",
    "            light.FSM.Transition(\"toOn\")\n",
    "            light.LightOn = True\n",
    "    light.FSM.Execute()"
   ]
  },
  {
   "cell_type": "code",
   "execution_count": null,
   "metadata": {},
   "outputs": [],
   "source": []
  },
  {
   "cell_type": "code",
   "execution_count": null,
   "metadata": {},
   "outputs": [],
   "source": []
  },
  {
   "cell_type": "code",
   "execution_count": null,
   "metadata": {},
   "outputs": [],
   "source": []
  }
 ],
 "metadata": {
  "kernelspec": {
   "display_name": "Python 3",
   "language": "python",
   "name": "python3"
  },
  "language_info": {
   "codemirror_mode": {
    "name": "ipython",
    "version": 3
   },
   "file_extension": ".py",
   "mimetype": "text/x-python",
   "name": "python",
   "nbconvert_exporter": "python",
   "pygments_lexer": "ipython3",
   "version": "3.5.2"
  }
 },
 "nbformat": 4,
 "nbformat_minor": 2
}
