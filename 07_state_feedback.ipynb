{
 "cells": [
  {
   "cell_type": "markdown",
   "metadata": {},
   "source": [
    "# Control Tutorial_7\n",
    "_Reference : The Control Handbook, Control System Fundamentals, Edited by William S.Levine from p9-90 to p9-100_,  \n",
    "https://docs.scipy.org/doc/scipy-0.19.1/reference/generated/scipy.signal.place_poles.html#scipy-signal-place-poles"
   ]
  },
  {
   "cell_type": "markdown",
   "metadata": {},
   "source": [
    "# State-Space-Pole Placement\n",
    "---"
   ]
  },
  {
   "cell_type": "markdown",
   "metadata": {},
   "source": [
    "We present a design method commonly called the pole placement technique.  \n",
    "We assume that all state variables are measurable and are available for feedback.  \n",
    "It will be shown that if the system considered is completely state controllable, then poles of the closed-loop system may be placed at any desired locations by means state feedback through an appropriate state feedback gain matrix."
   ]
  },
  {
   "cell_type": "markdown",
   "metadata": {},
   "source": [
    "## State Feedback Control\n",
    "<img src=\"figures/StateFeedback.png\" hight=\"120\">\n",
    "Consider a control system\n",
    "\n",
    "$$\n",
    "\\dot{x}=Ax+Bu \\tag{1}\n",
    "$$\n",
    "\n",
    "Where $x$ is state vector ($n$-vector); $u$ is control signal (scalar); $A$ is $n \\times n$ constant matrix; $B$ is $n\\times 1$ constant matrix.  \n",
    "We shall choose the control signal to be \n",
    "\n",
    "$$\n",
    "u=-Kx \\tag{2}\n",
    "$$\n",
    "\n",
    "This means the control signal is determined by instantaneous state. Such a scheme is called _**state feedback**_.  \n",
    "The $1\\times n$ matrix $K$ is called the state feedback gain matrix.\n",
    "\n",
    "Substituting Equation(2) into Equation(1) gives\n",
    "\n",
    "$$\n",
    "\\dot{x}(t) = (A-BK)x(t) \\tag{3}\n",
    "$$\n",
    "\n",
    "The solution of Equation(3) is given by\n",
    "\n",
    "$$\n",
    "x(t) = e^{(A-BK)t}x(0)\n",
    "$$\n",
    "\n",
    "Note the eigenvalues of matrix $A-BK$ are the desired closed loop poles.  \n",
    "We now prove that a necessary and sufficient condition for arbitary pole placement is that the system be completely state controllable. "
   ]
  },
  {
   "cell_type": "markdown",
   "metadata": {},
   "source": [
    "## Design Steps for Pole Placement (Manually)"
   ]
  },
  {
   "cell_type": "markdown",
   "metadata": {},
   "source": [
    "- Step1\n",
    "Check the controllability condition for the system. If the system is completely state controllable, the use the following steps.\n",
    "\n",
    "- Step2\n",
    "From the characteristic polynomial for matrix $A$:\n",
    "$$\n",
    "|SI-A|=s^n+a_1s^{n-1}+\\cdots+a_{n-1}s+a_n\n",
    "$$\n",
    "determine the value of $a_1,a_2,\\cdots,a_n$.\n",
    "\n",
    "- Step3\n",
    "Determine the transformation matrix $T$ that transforms the system state equation into controllable canonical form.  \n",
    "(If the given system is already in the controllable canonical form, then $T=I$.)  \n",
    "The transformation matrix $T$ is given by\n",
    "$$\n",
    "T=MW\n",
    "$$\n",
    "Where \n",
    "$$\n",
    "M = \\begin{bmatrix}B|AB|\\cdots|A^{n-1}B\\end{bmatrix}\\\\\n",
    "W=\\begin{bmatrix}a_{n-1}& a_{n-2}& \\cdots&a_1& 1\\\\ a_{n-2}& a_{n-3}& \\cdots& 1 & 0\\\\ \\vdots& \\vdots& & \\vdots &\\vdots\\\\ a_1& 1& \\cdots&0& 0\\\\1&0&0&0&0 \\end{bmatrix}\n",
    "$$\n",
    "\n",
    "- Step4\n",
    "Using desired eigenvalues (desired closed-loop poles), write the desired characteristic polynominal\n",
    "$$\n",
    "(s-\\mu_1)(s-\\mu_2)\\cdots(s-\\mu_n)=s^n + \\alpha_1s^{n-1} + \\cdots + \\alpha_{n-1}s + \\alpha_n\n",
    "$$\n",
    "and determine the values of $\\alpha_1,\\alpha_2,\\cdots,\\alpha_n$\n",
    "\n",
    "- Step 5\n",
    "The required state feedback gain matrix $K$ can be determined.\n",
    "$$\n",
    "K=\\begin{bmatrix}\\alpha_n-a_n|\\alpha_{n-1}-a_{n-1}|\\cdots|\\alpha_1-a_1\\end{bmatrix}T^{-1}\n",
    "$$"
   ]
  },
  {
   "cell_type": "markdown",
   "metadata": {},
   "source": [
    "# Simulation"
   ]
  },
  {
   "cell_type": "code",
   "execution_count": 1,
   "metadata": {},
   "outputs": [],
   "source": [
    "from scipy import signal\n",
    "import numpy as np\n",
    "import matplotlib.pyplot as plt\n",
    "%matplotlib inline"
   ]
  },
  {
   "cell_type": "markdown",
   "metadata": {},
   "source": [
    "## Example (Mass-Spring-Damper system)\n",
    "<img src=\"figures/StateMSD.png\" hight=\"150\">\n",
    "\n",
    "The force equation becomes:\n",
    "\n",
    "$$\n",
    "m\\frac{d^2x}{dt^2} + c\\frac{dx}{dt} + kx = u\n",
    "$$\n",
    "\n",
    "The state matrix is given like:\n",
    "$$\n",
    "x = \\begin{bmatrix}x\\\\\\frac{dx}{dt}\\end{bmatrix}=\\begin{bmatrix}x_1\\\\x_2\\end{bmatrix}\n",
    "$$\n",
    "\n",
    "Therefore the state equation may be written as\n",
    "$$\n",
    "\\dot{x} = \\frac{d}{dt}\\begin{bmatrix}x_1\\\\ x_2\\end{bmatrix} = \\begin{bmatrix}0&1\\\\-\\frac{k}{m}&-\\frac{c}{m}\\end{bmatrix}\\begin{bmatrix}x_1\\\\ x_2\\end{bmatrix} + \\begin{bmatrix}0\\\\ \\frac{1}{m}\\end{bmatrix}u\n",
    "$$\n",
    "\n",
    "Where,\n",
    "$$\n",
    "A = \\begin{bmatrix}0&1\\\\-\\frac{k}{m}&-\\frac{c}{m}\\end{bmatrix}\\\\\n",
    "B = \\begin{bmatrix}0\\\\ \\frac{1}{m}\\end{bmatrix}\n",
    "$$\n",
    "\n",
    "The typical parameters of Mass-Spring-Damper system setup are selected as following:   \n",
    "Mass of the cart:  $m  = 1$ [kg]   \n",
    "The spring constant: $k = 1$ [N/m]   \n",
    "The damping constant: $c = 1$ [N/(m/s)] \n",
    "\n",
    "Then, the state equation gives\n",
    "$$\n",
    "\\dot{x} = \\frac{d}{dt}\\begin{bmatrix}x_1\\\\ x_2\\end{bmatrix} = \\begin{bmatrix}0&1\\\\-1&-1\\end{bmatrix}\\begin{bmatrix}x_1\\\\ x_2\\end{bmatrix} + \\begin{bmatrix}0\\\\ 1\\end{bmatrix}u\\\\\n",
    "A = \\begin{bmatrix}0&1\\\\-1&-1\\end{bmatrix}\\\\\n",
    "B = \\begin{bmatrix}0\\\\ 1\\end{bmatrix}\n",
    "$$"
   ]
  },
  {
   "cell_type": "code",
   "execution_count": 2,
   "metadata": {},
   "outputs": [],
   "source": [
    "def MSD_state(m=1,k=1,c=1):\n",
    "    A = np.array([[    0,     1],\n",
    "                  [ -k/m,  -c/m]])\n",
    "    B = np.array([[   0],\n",
    "                  [-1/m]])\n",
    "    return A,B"
   ]
  },
  {
   "cell_type": "markdown",
   "metadata": {},
   "source": [
    "By using the state feedback control $u=-Kx$, it is desired to have the closed-loop poles at $s=-\\frac{-2-j}{3},\\frac{-2+j}{3}$.  "
   ]
  },
  {
   "cell_type": "code",
   "execution_count": 3,
   "metadata": {},
   "outputs": [],
   "source": [
    "# desired the closed-loop poles\n",
    "P = np.array([-2-1j, -2+1j]) / 3."
   ]
  },
  {
   "cell_type": "markdown",
   "metadata": {},
   "source": [
    "Determine the state feedback gain matrix $K$.  \n",
    "`scipy.signal.place_poles` method computes $K$ such that eigenvalues of $(A - BK)$"
   ]
  },
  {
   "cell_type": "code",
   "execution_count": 4,
   "metadata": {},
   "outputs": [],
   "source": [
    "A,B = MSD_state()\n",
    "fsf = signal.place_poles(A, B, P)"
   ]
  },
  {
   "cell_type": "code",
   "execution_count": 5,
   "metadata": {},
   "outputs": [
    {
     "data": {
      "text/plain": [
       "array([[ 0.44444444, -0.33333333]])"
      ]
     },
     "execution_count": 5,
     "metadata": {},
     "output_type": "execute_result"
    }
   ],
   "source": [
    "K = fsf.gain_matrix\n",
    "K"
   ]
  },
  {
   "cell_type": "code",
   "execution_count": 6,
   "metadata": {},
   "outputs": [
    {
     "data": {
      "text/plain": [
       "array([-0.66666667-0.33333333j, -0.66666667+0.33333333j])"
      ]
     },
     "execution_count": 6,
     "metadata": {},
     "output_type": "execute_result"
    }
   ],
   "source": [
    "fsf.computed_poles"
   ]
  },
  {
   "cell_type": "code",
   "execution_count": 7,
   "metadata": {},
   "outputs": [
    {
     "data": {
      "text/plain": [
       "array([-0.66666667-0.33333333j, -0.66666667+0.33333333j])"
      ]
     },
     "execution_count": 7,
     "metadata": {},
     "output_type": "execute_result"
    }
   ],
   "source": [
    "fsf.requested_poles"
   ]
  },
  {
   "cell_type": "markdown",
   "metadata": {},
   "source": [
    "We can plot the desired and computed poles in the complex plane:"
   ]
  },
  {
   "cell_type": "code",
   "execution_count": 8,
   "metadata": {},
   "outputs": [
    {
     "data": {
      "text/plain": [
       "<matplotlib.legend.Legend at 0x7ff78734c3c8>"
      ]
     },
     "execution_count": 8,
     "metadata": {},
     "output_type": "execute_result"
    },
    {
     "data": {
      "image/png": "[encoded data removed]",
      "text/plain": [
       "<Figure size 432x288 with 1 Axes>"
      ]
     },
     "metadata": {
      "needs_background": "light"
     },
     "output_type": "display_data"
    }
   ],
   "source": [
    "t = np.linspace(0, 2*np.pi, 401)\n",
    "plt.plot(np.cos(t), np.sin(t), 'k--')  # unit circle\n",
    "plt.plot(fsf.requested_poles.real, fsf.requested_poles.imag,'co',markersize=12, label='Desired')\n",
    "plt.plot(fsf.computed_poles.real, fsf.computed_poles.imag, 'rx',label='Placed')\n",
    "plt.grid(True)\n",
    "plt.axis('image')\n",
    "plt.axis([-1.1, 1.1, -1.1, 1.1])\n",
    "plt.axhline(y=0,color=\"k\")\n",
    "plt.axvline(x=0,color=\"k\")\n",
    "plt.legend(bbox_to_anchor=(1.05, 1), loc=2, numpoints=1)"
   ]
  },
  {
   "cell_type": "code",
   "execution_count": null,
   "metadata": {},
   "outputs": [],
   "source": []
  }
 ],
 "metadata": {
  "kernelspec": {
   "display_name": "Python 3",
   "language": "python",
   "name": "python3"
  },
  "language_info": {
   "codemirror_mode": {
    "name": "ipython",
    "version": 3
   },
   "file_extension": ".py",
   "mimetype": "text/x-python",
   "name": "python",
   "nbconvert_exporter": "python",
   "pygments_lexer": "ipython3",
   "version": "3.5.2"
  }
 },
 "nbformat": 4,
 "nbformat_minor": 2
}
