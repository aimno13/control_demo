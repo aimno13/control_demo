{
 "cells": [
  {
   "cell_type": "markdown",
   "metadata": {},
   "source": [
    "# Control Tutorial_6\n",
    "_Reference : The Control Handbook, Control System Fundamentals, Edited by William S.Levine from p9-88 to p9-89_, http://apmonitor.com/pdc/index.php/Main/FeedforwardControl"
   ]
  },
  {
   "cell_type": "markdown",
   "metadata": {},
   "source": [
    "# Feedforward control\n",
    "---\n",
    "Disturbances can be eliminated by feedback. Feedforward control is a strategy to reject persistent disturbances that cannot adequately be rejected with feedback control. Feedforward control is typically added to feedback control and is not usually implemented alone. In certain situations, the performance of control systems can be enhanced greatly by the application of feedforward control. Feedforward can be used for both linear and nonlinear systems.\n",
    "\n",
    "Two key characteristics are needed:\n",
    "1. An identifiable disturbance is affecting significantly the measured variable, in spite of the attempts of a feedback control system to regulate these effects\n",
    "2. This disturbance can be measured, perhaps with the addition of instrumentation\n",
    "\n",
    "## The Control law\n",
    "<img src=\"figures/feedforward.png\" hight=\"170\">\n",
    "As an illustration we consider a linear system that has two input, the control signal $u(t)$ and the disturbance $d(t)$, and one output $y(t)$.   \n",
    "The transfer function from disturbance to output is $G_D(s)$, and the transfer function of the plant is $G_P(s)$.  \n",
    "The process can be described by  \n",
    "\n",
    "$$\n",
    "Y(s) = G_P(s)U(s) + G_D(s)D(s)\n",
    "$$\n",
    "\n",
    "Where, the Laplace transformed variables are denoted by capital letters.  \n",
    "The ideal feedforward controller makes the output zero for all disturbances $d(t)$. Thus, the feedforward transfer function shoul be chosen as\n",
    "\n",
    "$$\n",
    "G_{ff}(s) = -\\frac{G_D(s)}{G_P(s)}\n",
    "$$"
   ]
  },
  {
   "cell_type": "markdown",
   "metadata": {},
   "source": [
    "# Simulation (Using transfer function)\n",
    "The \"Sympy\" module is useful for the calculation of the transfer function."
   ]
  },
  {
   "cell_type": "code",
   "execution_count": 1,
   "metadata": {},
   "outputs": [],
   "source": [
    "from scipy import signal\n",
    "from scipy import misc\n",
    "import numpy as np\n",
    "from matplotlib import pyplot as plt\n",
    "%matplotlib inline\n",
    "import sympy as sy\n",
    "s,t = sy.symbols('s t') # Declaration of the variables"
   ]
  },
  {
   "cell_type": "code",
   "execution_count": 2,
   "metadata": {},
   "outputs": [],
   "source": [
    "def lti_to_sympy(lsys, symplify=True):\n",
    "    \"\"\" Convert Scipy's LTI instance to Sympy expression \"\"\"\n",
    "    s = sy.Symbol('s')\n",
    "    G = sy.Poly(lsys.num, s) / sy.Poly(lsys.den, s)\n",
    "    return sy.simplify(G) if symplify else G\n",
    "\n",
    "def sympy_to_lti(xpr, s=sy.Symbol('s')):\n",
    "    \"\"\" Convert Sympy transfer function polynomial to Scipy LTI \"\"\"\n",
    "    num, den = sy.simplify(xpr).as_numer_denom()  # expressions\n",
    "    p_num_den = sy.poly(num, s), sy.poly(den, s)  # polynomials\n",
    "    c_num_den = [sy.expand(p).all_coeffs() for p in p_num_den]  # coefficients\n",
    "    l_num, l_den = [sy.lambdify((), c)() for c in c_num_den]  # convert to floats\n",
    "    return signal.lti(l_num, l_den)"
   ]
  },
  {
   "cell_type": "markdown",
   "metadata": {},
   "source": [
    "## Example (Feedforward + PID controller)\n",
    "\n",
    "To illustlate Feedforward control, let's consider the FF-PID controller.   \n",
    "In this example, Consider the additional disturbance input represened by $D(s)$.\n",
    "\n",
    "#### Plant\n",
    "---\n",
    "<img src=\"figures/MSD_system.png\" hight=\"150\">\n",
    "We consider a simple second order system (Mass-Spring-Damper system) as a plant.  \n",
    "\n",
    "$$\n",
    "G_P(s) = \\frac{1}{ms^2+cs+k} \n",
    "$$\n",
    "\n",
    "The typical parameters of Mass-Spring-Damper system setup are selected as following:   \n",
    "Mass of the cart:  $m  = 1$ [kg]   \n",
    "The spring constant: $k = 1$ [N/m]   \n",
    "The damping constant: $c = 1$ [N/(m/s)] \n"
   ]
  },
  {
   "cell_type": "code",
   "execution_count": 3,
   "metadata": {},
   "outputs": [],
   "source": [
    "def MSD_plant(m=1,k=1,c=1):\n",
    "    num = [1/m] \n",
    "    den = [1, c/m, k/m] \n",
    "    return signal.lti(num, den)"
   ]
  },
  {
   "cell_type": "markdown",
   "metadata": {},
   "source": [
    "#### PID controller\n",
    "---\n",
    "The transfer function of the PID controller has the form like (See [Control Tutorial_5])\n",
    "\n",
    "$$\n",
    "C(s) = \\frac{U(s)}{E(s)} = K \\left( 1 + \\frac{1}{T_is} + T_ds \\right) = K\\frac{T_iT_ds^2+T_is+1}{T_is}\n",
    "$$\n",
    "\n",
    "The typical parameters of PID controller are selected as following:   \n",
    "The system gain:  $K  = 10$    \n",
    "The integral time constant: $T_i = 1$  \n",
    "The derivative time constant: $T_d = 1$ "
   ]
  },
  {
   "cell_type": "code",
   "execution_count": 4,
   "metadata": {},
   "outputs": [],
   "source": [
    "def PID_controller(K=10,T_i=1,T_d=1):\n",
    "    num = [K*T_i*T_d, K*T_i, K] \n",
    "    den = [T_i, 0] \n",
    "    return signal.lti(num, den)"
   ]
  },
  {
   "cell_type": "markdown",
   "metadata": {},
   "source": [
    "#### Disturbance and Feedforward controller\n",
    "---\n",
    "Let $d(t)$ represent the horizontal wind force on the mass.  \n",
    "$d(t)$ is the force which affects the mass, therefore the transfer function from the disturbance $d(t)$ to output $y(t)$ is thus same as $G_P(s)$\n",
    "\n",
    "$$\n",
    "G_D(s) = G_P(s) = \\frac{1}{ms^2+cs+k} \n",
    "$$\n",
    "\n",
    "The ideal feedforward controller makes the output zero for all disturbances $d(t)$. Thus, the feedforward transfer function shoul be chosen as $G_{ff}(s) = -\\frac{G_D(s)}{G_P(s)}$.  \n",
    "However, there is in fact dead time of the controller, so we have to take it into account. We set 0.2[s] as a dead time of this feedforward controller, so the transfer function of the controller is represented by:\n",
    "\n",
    "$$\n",
    "G_{ff}(s) = -\\frac{G_D(s)}{G_P(s)}\\cdot e^{-0.2\\cdot s}\n",
    "$$\n",
    "\n",
    "The Laplace transform of a time delay of $L$ seconds is $e^{-Ls}$.   \n",
    "This exponential transfer function is approximated by a rational transfer function using Padé approximation like:\n",
    "\n",
    "$$\n",
    "e^{-Ls} = \\frac{1-\\frac{Ls}{2}+\\frac{(Ls)^2}{12}}{1+\\frac{Ls}{2}+\\frac{(Ls)^2}{12}}\n",
    "$$"
   ]
  },
  {
   "cell_type": "code",
   "execution_count": 5,
   "metadata": {},
   "outputs": [],
   "source": [
    "def time_delay(L):\n",
    "    s = sy.symbols('s')\n",
    "    pade = (1-(L*s/2)+(L*L*s*s/12))/(1+(L*s/2)+(L*L*s*s/12))\n",
    "    return pade"
   ]
  },
  {
   "cell_type": "code",
   "execution_count": 6,
   "metadata": {},
   "outputs": [],
   "source": [
    "# Declare transfer functions in Scipy expression\n",
    "G_P  = MSD_plant() \n",
    "G_D  = MSD_plant()\n",
    "C    = PID_controller()\n",
    "Delay = time_delay(0.2)"
   ]
  },
  {
   "cell_type": "markdown",
   "metadata": {},
   "source": [
    "We convert transfer functions in to sympy expression to make it possible to multiply them."
   ]
  },
  {
   "cell_type": "code",
   "execution_count": 7,
   "metadata": {},
   "outputs": [],
   "source": [
    "# Convert transfer functions into Sympy expression\n",
    "G_Ps, G_Ds, Cs= lti_to_sympy(G_P), lti_to_sympy(G_D), lti_to_sympy(C)\n",
    "\n",
    "# Feedforward controller transfer function\n",
    "G_ffs = (-G_Ds / G_Ps)*Delay"
   ]
  },
  {
   "cell_type": "markdown",
   "metadata": {},
   "source": [
    "#### The control law\n",
    "<img src=\"figures/FF-PID.png\" hight=\"170\">\n",
    "In this example, there are two inputs $y_{sp}(t)$ and $d(t)$, and one output $y(t)$ because we consider the additional disturbance into the Mass-Spring-Damper system.  \n",
    "The transfer function of the system is given by\n",
    "$$\n",
    "\\left( (Y_sp(s)-Y(s))C(s)+G_{ff}D(s)\\right) G_P(s) +G_D(s)D(s) = Y(s)\n",
    "$$\n",
    "\n",
    "$$\n",
    "Y(s) = \\frac{C(s)G_P(s)}{1+C(s)G_P(s)}Y_{sp}(s) + \\frac{G_{ff}(s)G_P(s)+G_D(s)}{1+C(s)G_P(s)}D(s)\n",
    "$$\n",
    "\n",
    "We can transform this equation to th matrix form.\n",
    "$$\n",
    "Y_{FF+PID}(s)=\\begin{bmatrix} \\frac{C(s)G_P(s)}{1+C(s)G_P(s)} & \\frac{G_{ff}(s)G_P(s)+G_D(s)}{1+C(s)G_P(s)}\\end{bmatrix}\\begin{bmatrix}Y_{sp}(s)\\\\ D(s)\\end{bmatrix} = \\begin{bmatrix}H1_{FF+PID}(s)& H2_{FF+PID}(s)\\end{bmatrix}\\begin{bmatrix}Y_{sp}(s)\\\\ D(s)\\end{bmatrix}\n",
    "$$\n",
    "\n",
    "To compare the result, we consider the transfer function without the feedforward controller $G_{ff}(s)$\n",
    "\n",
    "$$\n",
    "Y_{PID}(s)=\\begin{bmatrix} \\frac{C(s)G_P(s)}{1+C(s)G_P(s)} & \\frac{G_D(s)}{1+C(s)G_P(s)}\\end{bmatrix}\\begin{bmatrix}Y_{sp}(s)\\\\ D(s)\\end{bmatrix} = \\begin{bmatrix}H1_{PID}(s)& H2_{PID}(s)\\end{bmatrix}\\begin{bmatrix}Y_{sp}(s)\\\\ D(s)\\end{bmatrix}\n",
    "$$\n",
    "\n",
    "In this example,  \n",
    "The desired output is a step function like $y_{sp} = 1 (t>0)$  \n",
    "The initial state $y(0)=0$"
   ]
  },
  {
   "cell_type": "code",
   "execution_count": 8,
   "metadata": {},
   "outputs": [],
   "source": [
    "H1s_ffpid = sy.simplify(Cs*G_Ps / (1+Cs*G_Ps)).expand()\n",
    "H2s_ffpid = sy.simplify((G_Ps*G_ffs+G_Ds)/(1+Cs*G_Ps)).expand()\n",
    "H1s_pid = sy.simplify(Cs*G_Ps / (1+Cs*G_Ps)).expand()\n",
    "H2s_pid = sy.simplify((G_Ds)/(1+Cs*G_Ps)).expand()"
   ]
  },
  {
   "cell_type": "markdown",
   "metadata": {},
   "source": [
    "We convert transfer functions $H1$, $H2$ into scipy expression again."
   ]
  },
  {
   "cell_type": "code",
   "execution_count": 9,
   "metadata": {},
   "outputs": [],
   "source": [
    "H1_ffpid, H2_ffpid = sympy_to_lti(H1s_ffpid), sympy_to_lti(H2s_ffpid)\n",
    "H1_pid, H2_pid = sympy_to_lti(H1s_pid), sympy_to_lti(H2s_pid)"
   ]
  },
  {
   "cell_type": "markdown",
   "metadata": {},
   "source": [
    "We set the time horizon, the set point $y_{sp}$, and the disturbance $d(t)$ in `numpy.ndarray` type."
   ]
  },
  {
   "cell_type": "code",
   "execution_count": 10,
   "metadata": {},
   "outputs": [],
   "source": [
    "# Time horizon\n",
    "trange = np.linspace(0, 20, 200)\n",
    "\n",
    "# The set point of y\n",
    "y_sp = np.ones(len(trange))\n",
    "\n",
    "# The disturbance\n",
    "d = np.zeros(len(trange))\n",
    "d[100] = 10"
   ]
  },
  {
   "cell_type": "markdown",
   "metadata": {},
   "source": [
    "`scipy.signal.lsim` method can simulate output of a continuous-time linear system."
   ]
  },
  {
   "cell_type": "code",
   "execution_count": 11,
   "metadata": {},
   "outputs": [],
   "source": [
    "# Simulate the output of the system\n",
    "tout1, y1_ffpid, x1 = signal.lsim(H1_ffpid, U=y_sp, T=trange)\n",
    "tout2, y2_ffpid, x2 = signal.lsim(H2_ffpid, U=d, T=trange)\n",
    "y_ffpid = y1_ffpid + y2_ffpid\n",
    "\n",
    "tout1, y1_pid, x1 = signal.lsim(H1_pid, U=y_sp, T=trange)\n",
    "tout2, y2_pid, x2 = signal.lsim(H2_pid, U=d, T=trange)\n",
    "y_pid = y1_pid + y2_pid"
   ]
  },
  {
   "cell_type": "code",
   "execution_count": 12,
   "metadata": {},
   "outputs": [
    {
     "data": {
      "image/png": "[encoded data removed]",
      "text/plain": [
       "<Figure size 432x288 with 1 Axes>"
      ]
     },
     "metadata": {
      "needs_background": "light"
     },
     "output_type": "display_data"
    }
   ],
   "source": [
    "plt.plot(trange, y_pid, \"--\",label=\"PID controller\")\n",
    "plt.plot(trange, y_ffpid, label=\"Feedforward + PID controller\")\n",
    "plt.title('System Response($y_{sp}=1$) with disturbance $10$ at $t=10[s]$')\n",
    "plt.xlabel('Time (sec.)')\n",
    "plt.ylabel('y(t)')\n",
    "plt.grid(True)\n",
    "plt.legend()\n",
    "plt.show()"
   ]
  },
  {
   "cell_type": "markdown",
   "metadata": {},
   "source": [
    "We can see the feedforward controller eliminated the effect of the disturbance at 10[s]."
   ]
  },
  {
   "cell_type": "code",
   "execution_count": null,
   "metadata": {},
   "outputs": [],
   "source": []
  }
 ],
 "metadata": {
  "kernelspec": {
   "display_name": "Python 3",
   "language": "python",
   "name": "python3"
  },
  "language_info": {
   "codemirror_mode": {
    "name": "ipython",
    "version": 3
   },
   "file_extension": ".py",
   "mimetype": "text/x-python",
   "name": "python",
   "nbconvert_exporter": "python",
   "pygments_lexer": "ipython3",
   "version": "3.5.2"
  }
 },
 "nbformat": 4,
 "nbformat_minor": 2
}
